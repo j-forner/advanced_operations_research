{
 "cells": [
  {
   "cell_type": "markdown",
   "metadata": {},
   "source": [
    "### Optimizing a Portfolio"
   ]
  },
  {
   "cell_type": "markdown",
   "metadata": {},
   "source": [
    "#### 0. Importing libraries"
   ]
  },
  {
   "cell_type": "code",
   "execution_count": 2,
   "metadata": {},
   "outputs": [
    {
     "name": "stdout",
     "output_type": "stream",
     "text": [
      "Requirement already satisfied: gurobipy in c:\\users\\48919629\\appdata\\local\\packages\\pythonsoftwarefoundation.python.3.10_qbz5n2kfra8p0\\localcache\\local-packages\\python310\\site-packages (9.5.2)\n",
      "Note: you may need to restart the kernel to use updated packages.\n",
      "Requirement already satisfied: numpy in c:\\users\\48919629\\appdata\\local\\packages\\pythonsoftwarefoundation.python.3.10_qbz5n2kfra8p0\\localcache\\local-packages\\python310\\site-packages (1.23.2)\n",
      "Note: you may need to restart the kernel to use updated packages.\n"
     ]
    }
   ],
   "source": [
    "%pip install gurobipy\n",
    "import gurobipy as gp\n",
    "from gurobipy import GRB\n",
    "%pip install numpy\n",
    "import numpy as np"
   ]
  },
  {
   "cell_type": "markdown",
   "metadata": {},
   "source": [
    "#### 1. Set up the model and read in a file"
   ]
  },
  {
   "cell_type": "code",
   "execution_count": 3,
   "metadata": {},
   "outputs": [
    {
     "name": "stdout",
     "output_type": "stream",
     "text": [
      "Restricted license - for non-production use only - expires 2023-10-25\n"
     ]
    }
   ],
   "source": [
    "portfolio = gp.Model()"
   ]
  },
  {
   "cell_type": "code",
   "execution_count": null,
   "metadata": {},
   "outputs": [],
   "source": [
    "portfolio.read('n20m200k15s0.mps')"
   ]
  },
  {
   "cell_type": "markdown",
   "metadata": {},
   "source": [
    "#### 2. Data\n"
   ]
  },
  {
   "cell_type": "code",
   "execution_count": 4,
   "metadata": {},
   "outputs": [],
   "source": [
    "n = 20\n",
    "c = np.ones(20) # not really it, but just to have something\n",
    "m = 200\n",
    "k = 15\n",
    "\n",
    "# a\n",
    "# r # required return"
   ]
  },
  {
   "cell_type": "markdown",
   "metadata": {},
   "source": [
    "#### 3. Set the variables and the objective function"
   ]
  },
  {
   "cell_type": "code",
   "execution_count": 5,
   "metadata": {},
   "outputs": [],
   "source": [
    "x = portfolio.addVars(n, obj = c, vtype = GRB.CONTINUOUS, name = \"x\")\n",
    "z = portfolio.addVars(m, vtype = GRB.BINARY, name = \"z\")"
   ]
  },
  {
   "cell_type": "markdown",
   "metadata": {},
   "source": [
    "#### 4. Set the \"sense\" of the optimization problem"
   ]
  },
  {
   "cell_type": "code",
   "execution_count": 6,
   "metadata": {},
   "outputs": [],
   "source": [
    "portfolio.ModelSense = GRB.MINIMIZE"
   ]
  },
  {
   "cell_type": "markdown",
   "metadata": {},
   "source": [
    "#### 5. Add the constraints"
   ]
  },
  {
   "cell_type": "code",
   "execution_count": 7,
   "metadata": {},
   "outputs": [
    {
     "data": {
      "text/plain": [
       "<gurobi.Constr *Awaiting Model Update*>"
      ]
     },
     "execution_count": 7,
     "metadata": {},
     "output_type": "execute_result"
    }
   ],
   "source": [
    "portfolio.addConstr(gp.quicksum(x[i] for i in range(n)) == 1) # sum of the percentages equals 1\n",
    "# portfolio.addConstrs(a[i] * x + r * z[i] >= r for i in range(m)) # portfolio return exceeds the required return...\n",
    "# portfolio.addConstr(gp.quicksum(z[i] for i in range(m)) <= k) # in at least m - k scenarios"
   ]
  },
  {
   "cell_type": "markdown",
   "metadata": {},
   "source": [
    "#### 6. Update and optimize the model"
   ]
  },
  {
   "cell_type": "code",
   "execution_count": 8,
   "metadata": {},
   "outputs": [
    {
     "name": "stdout",
     "output_type": "stream",
     "text": [
      "Gurobi Optimizer version 9.5.2 build v9.5.2rc0 (win64)\n",
      "Thread count: 8 physical cores, 16 logical processors, using up to 16 threads\n",
      "Optimize a model with 1 rows, 220 columns and 20 nonzeros\n",
      "Model fingerprint: 0xbac13b6e\n",
      "Variable types: 20 continuous, 200 integer (200 binary)\n",
      "Coefficient statistics:\n",
      "  Matrix range     [1e+00, 1e+00]\n",
      "  Objective range  [1e+00, 1e+00]\n",
      "  Bounds range     [1e+00, 1e+00]\n",
      "  RHS range        [1e+00, 1e+00]\n",
      "Found heuristic solution: objective 1.0000000\n",
      "Presolve removed 1 rows and 220 columns\n",
      "Presolve time: 0.00s\n",
      "Presolve: All rows and columns removed\n",
      "\n",
      "Explored 0 nodes (0 simplex iterations) in 0.00 seconds (0.00 work units)\n",
      "Thread count was 1 (of 16 available processors)\n",
      "\n",
      "Solution count 1: 1 \n",
      "\n",
      "Optimal solution found (tolerance 1.00e-04)\n",
      "Best objective 1.000000000000e+00, best bound 1.000000000000e+00, gap 0.0000%\n"
     ]
    }
   ],
   "source": [
    "portfolio.update()\n",
    "portfolio.write('portfolio.lp')\n",
    "portfolio.optimize()"
   ]
  },
  {
   "cell_type": "markdown",
   "metadata": {},
   "source": [
    "#### 7. Print the results"
   ]
  },
  {
   "cell_type": "code",
   "execution_count": 9,
   "metadata": {},
   "outputs": [
    {
     "name": "stdout",
     "output_type": "stream",
     "text": [
      "The optimal objective value for this problem is {portfolio.objVal}\n",
      "The optimal values of the decision variables are as follows:\n",
      "x[0] = 0.0\n",
      "x[1] = 0.0\n",
      "x[2] = 0.0\n",
      "x[3] = 0.0\n",
      "x[4] = 0.0\n",
      "x[5] = 0.0\n",
      "x[6] = 0.0\n",
      "x[7] = 0.0\n",
      "x[8] = 0.0\n",
      "x[9] = 0.0\n",
      "x[10] = 0.0\n",
      "x[11] = 0.0\n",
      "x[12] = 0.0\n",
      "x[13] = 0.0\n",
      "x[14] = 0.0\n",
      "x[15] = 0.0\n",
      "x[16] = 0.0\n",
      "x[17] = 0.0\n",
      "x[18] = 0.0\n",
      "x[19] = 1.0\n",
      "z[0] = 0.0\n",
      "z[1] = 0.0\n",
      "z[2] = 0.0\n",
      "z[3] = 0.0\n",
      "z[4] = 0.0\n",
      "z[5] = 0.0\n",
      "z[6] = 0.0\n",
      "z[7] = 0.0\n",
      "z[8] = 0.0\n",
      "z[9] = 0.0\n",
      "z[10] = 0.0\n",
      "z[11] = 0.0\n",
      "z[12] = 0.0\n",
      "z[13] = 0.0\n",
      "z[14] = 0.0\n",
      "z[15] = 0.0\n",
      "z[16] = 0.0\n",
      "z[17] = 0.0\n",
      "z[18] = 0.0\n",
      "z[19] = 0.0\n",
      "z[20] = 0.0\n",
      "z[21] = 0.0\n",
      "z[22] = 0.0\n",
      "z[23] = 0.0\n",
      "z[24] = 0.0\n",
      "z[25] = 0.0\n",
      "z[26] = 0.0\n",
      "z[27] = 0.0\n",
      "z[28] = 0.0\n",
      "z[29] = 0.0\n",
      "z[30] = 0.0\n",
      "z[31] = 0.0\n",
      "z[32] = 0.0\n",
      "z[33] = 0.0\n",
      "z[34] = 0.0\n",
      "z[35] = 0.0\n",
      "z[36] = 0.0\n",
      "z[37] = 0.0\n",
      "z[38] = 0.0\n",
      "z[39] = 0.0\n",
      "z[40] = 0.0\n",
      "z[41] = 0.0\n",
      "z[42] = 0.0\n",
      "z[43] = 0.0\n",
      "z[44] = 0.0\n",
      "z[45] = 0.0\n",
      "z[46] = 0.0\n",
      "z[47] = 0.0\n",
      "z[48] = 0.0\n",
      "z[49] = 0.0\n",
      "z[50] = 0.0\n",
      "z[51] = 0.0\n",
      "z[52] = 0.0\n",
      "z[53] = 0.0\n",
      "z[54] = 0.0\n",
      "z[55] = 0.0\n",
      "z[56] = 0.0\n",
      "z[57] = 0.0\n",
      "z[58] = 0.0\n",
      "z[59] = 0.0\n",
      "z[60] = 0.0\n",
      "z[61] = 0.0\n",
      "z[62] = 0.0\n",
      "z[63] = 0.0\n",
      "z[64] = 0.0\n",
      "z[65] = 0.0\n",
      "z[66] = 0.0\n",
      "z[67] = 0.0\n",
      "z[68] = 0.0\n",
      "z[69] = 0.0\n",
      "z[70] = 0.0\n",
      "z[71] = 0.0\n",
      "z[72] = 0.0\n",
      "z[73] = 0.0\n",
      "z[74] = 0.0\n",
      "z[75] = 0.0\n",
      "z[76] = 0.0\n",
      "z[77] = 0.0\n",
      "z[78] = 0.0\n",
      "z[79] = 0.0\n",
      "z[80] = 0.0\n",
      "z[81] = 0.0\n",
      "z[82] = 0.0\n",
      "z[83] = 0.0\n",
      "z[84] = 0.0\n",
      "z[85] = 0.0\n",
      "z[86] = 0.0\n",
      "z[87] = 0.0\n",
      "z[88] = 0.0\n",
      "z[89] = 0.0\n",
      "z[90] = 0.0\n",
      "z[91] = 0.0\n",
      "z[92] = 0.0\n",
      "z[93] = 0.0\n",
      "z[94] = 0.0\n",
      "z[95] = 0.0\n",
      "z[96] = 0.0\n",
      "z[97] = 0.0\n",
      "z[98] = 0.0\n",
      "z[99] = 0.0\n",
      "z[100] = 0.0\n",
      "z[101] = 0.0\n",
      "z[102] = 0.0\n",
      "z[103] = 0.0\n",
      "z[104] = 0.0\n",
      "z[105] = 0.0\n",
      "z[106] = 0.0\n",
      "z[107] = 0.0\n",
      "z[108] = 0.0\n",
      "z[109] = 0.0\n",
      "z[110] = 0.0\n",
      "z[111] = 0.0\n",
      "z[112] = 0.0\n",
      "z[113] = 0.0\n",
      "z[114] = 0.0\n",
      "z[115] = 0.0\n",
      "z[116] = 0.0\n",
      "z[117] = 0.0\n",
      "z[118] = 0.0\n",
      "z[119] = 0.0\n",
      "z[120] = 0.0\n",
      "z[121] = 0.0\n",
      "z[122] = 0.0\n",
      "z[123] = 0.0\n",
      "z[124] = 0.0\n",
      "z[125] = 0.0\n",
      "z[126] = 0.0\n",
      "z[127] = 0.0\n",
      "z[128] = 0.0\n",
      "z[129] = 0.0\n",
      "z[130] = 0.0\n",
      "z[131] = 0.0\n",
      "z[132] = 0.0\n",
      "z[133] = 0.0\n",
      "z[134] = 0.0\n",
      "z[135] = 0.0\n",
      "z[136] = 0.0\n",
      "z[137] = 0.0\n",
      "z[138] = 0.0\n",
      "z[139] = 0.0\n",
      "z[140] = 0.0\n",
      "z[141] = 0.0\n",
      "z[142] = 0.0\n",
      "z[143] = 0.0\n",
      "z[144] = 0.0\n",
      "z[145] = 0.0\n",
      "z[146] = 0.0\n",
      "z[147] = 0.0\n",
      "z[148] = 0.0\n",
      "z[149] = 0.0\n",
      "z[150] = 0.0\n",
      "z[151] = 0.0\n",
      "z[152] = 0.0\n",
      "z[153] = 0.0\n",
      "z[154] = 0.0\n",
      "z[155] = 0.0\n",
      "z[156] = 0.0\n",
      "z[157] = 0.0\n",
      "z[158] = 0.0\n",
      "z[159] = 0.0\n",
      "z[160] = 0.0\n",
      "z[161] = 0.0\n",
      "z[162] = 0.0\n",
      "z[163] = 0.0\n",
      "z[164] = 0.0\n",
      "z[165] = 0.0\n",
      "z[166] = 0.0\n",
      "z[167] = 0.0\n",
      "z[168] = 0.0\n",
      "z[169] = 0.0\n",
      "z[170] = 0.0\n",
      "z[171] = 0.0\n",
      "z[172] = 0.0\n",
      "z[173] = 0.0\n",
      "z[174] = 0.0\n",
      "z[175] = 0.0\n",
      "z[176] = 0.0\n",
      "z[177] = 0.0\n",
      "z[178] = 0.0\n",
      "z[179] = 0.0\n",
      "z[180] = 0.0\n",
      "z[181] = 0.0\n",
      "z[182] = 0.0\n",
      "z[183] = 0.0\n",
      "z[184] = 0.0\n",
      "z[185] = 0.0\n",
      "z[186] = 0.0\n",
      "z[187] = 0.0\n",
      "z[188] = 0.0\n",
      "z[189] = 0.0\n",
      "z[190] = 0.0\n",
      "z[191] = 0.0\n",
      "z[192] = 0.0\n",
      "z[193] = 0.0\n",
      "z[194] = 0.0\n",
      "z[195] = 0.0\n",
      "z[196] = 0.0\n",
      "z[197] = 0.0\n",
      "z[198] = 0.0\n",
      "z[199] = 0.0\n"
     ]
    }
   ],
   "source": [
    "print(\"The optimal objective value for this problem is {portfolio.objVal}\") # optimal objective value\n",
    "\n",
    "print(\"The optimal values of the decision variables are as follows:\")\n",
    "for var in portfolio.getVars():\n",
    "    print(f\"{var.varName} = {var.x}\")"
   ]
  }
 ],
 "metadata": {
  "kernelspec": {
   "display_name": "Python 3.10.7 64-bit (microsoft store)",
   "language": "python",
   "name": "python3"
  },
  "language_info": {
   "codemirror_mode": {
    "name": "ipython",
    "version": 3
   },
   "file_extension": ".py",
   "mimetype": "text/x-python",
   "name": "python",
   "nbconvert_exporter": "python",
   "pygments_lexer": "ipython3",
   "version": "3.10.7"
  },
  "orig_nbformat": 4,
  "vscode": {
   "interpreter": {
    "hash": "52c8b4c2ef8eee1eed6e32ad1192934a50f44bc4c61372d017ecac2c0abed5b2"
   }
  }
 },
 "nbformat": 4,
 "nbformat_minor": 2
}
