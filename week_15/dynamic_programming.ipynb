{
 "cells": [
  {
   "cell_type": "markdown",
   "metadata": {},
   "source": [
    "#### How to visit the pubs"
   ]
  },
  {
   "cell_type": "markdown",
   "metadata": {},
   "source": [
    "#### 0. Importing libraries"
   ]
  },
  {
   "cell_type": "code",
   "execution_count": 2,
   "metadata": {},
   "outputs": [
    {
     "name": "stdout",
     "output_type": "stream",
     "text": [
      "Requirement already satisfied: gurobipy in c:\\users\\48919629\\appdata\\local\\packages\\pythonsoftwarefoundation.python.3.10_qbz5n2kfra8p0\\localcache\\local-packages\\python310\\site-packages (9.5.2)\n",
      "Note: you may need to restart the kernel to use updated packages.\n"
     ]
    },
    {
     "name": "stderr",
     "output_type": "stream",
     "text": [
      "\n",
      "[notice] A new release of pip available: 22.3 -> 22.3.1\n",
      "[notice] To update, run: C:\\Users\\48919629\\AppData\\Local\\Microsoft\\WindowsApps\\PythonSoftwareFoundation.Python.3.10_qbz5n2kfra8p0\\python.exe -m pip install --upgrade pip\n"
     ]
    },
    {
     "name": "stdout",
     "output_type": "stream",
     "text": [
      "Requirement already satisfied: numpy in c:\\users\\48919629\\appdata\\local\\packages\\pythonsoftwarefoundation.python.3.10_qbz5n2kfra8p0\\localcache\\local-packages\\python310\\site-packages (1.23.2)\n",
      "Note: you may need to restart the kernel to use updated packages.\n"
     ]
    },
    {
     "name": "stderr",
     "output_type": "stream",
     "text": [
      "\n",
      "[notice] A new release of pip available: 22.3 -> 22.3.1\n",
      "[notice] To update, run: C:\\Users\\48919629\\AppData\\Local\\Microsoft\\WindowsApps\\PythonSoftwareFoundation.Python.3.10_qbz5n2kfra8p0\\python.exe -m pip install --upgrade pip\n"
     ]
    }
   ],
   "source": [
    "%pip install gurobipy\n",
    "%pip install numpy\n",
    "import numpy as np"
   ]
  },
  {
   "cell_type": "code",
   "execution_count": 61,
   "metadata": {},
   "outputs": [],
   "source": [
    "# this code is taken from https://www.interviewbit.com/blog/0-1-knapsack-problem/\n",
    "\n",
    "def binary_knapsack(W, N, v, w) :\n",
    "    dp = [[0 for _ in range(W + 1)] for _ in range(N + 1)] # define dp\n",
    "\n",
    "    for i in range(1, N + 1):\n",
    "        for j in range(1, W + 1):\n",
    "            print(f\"{i = } , {j = }\")\n",
    "            print(f\"{w[i - 1] = }\")\n",
    "\n",
    "            if w[i - 1] <= j: \n",
    "                dp[i][j] = max(dp[i - 1][j - w[i - 1]] + v[i - 1], dp[i - 1][j]) # take max of both the cases i.e to take that item or to ignore it\n",
    "            else:\n",
    "                dp[i][j] = dp[i - 1][j] # if the weight of current element is greater than the space left in the bag we'll ignore it\n",
    "\n",
    "            print(dp)\n",
    "            print(\"\\n\")\n",
    "\n",
    "    return dp[N][W]"
   ]
  },
  {
   "cell_type": "code",
   "execution_count": 63,
   "metadata": {},
   "outputs": [
    {
     "name": "stdout",
     "output_type": "stream",
     "text": [
      "i = 1 , j = 1\n",
      "w[i - 1] = 1\n",
      "[[0, 0, 0], [0, 10, 0], [0, 0, 0]]\n",
      "\n",
      "\n",
      "i = 1 , j = 2\n",
      "w[i - 1] = 1\n",
      "[[0, 0, 0], [0, 10, 10], [0, 0, 0]]\n",
      "\n",
      "\n",
      "i = 2 , j = 1\n",
      "w[i - 1] = 2\n",
      "[[0, 0, 0], [0, 10, 10], [0, 10, 0]]\n",
      "\n",
      "\n",
      "i = 2 , j = 2\n",
      "w[i - 1] = 2\n",
      "[[0, 0, 0], [0, 10, 10], [0, 10, 15]]\n",
      "\n",
      "\n"
     ]
    },
    {
     "data": {
      "text/plain": [
       "15"
      ]
     },
     "execution_count": 63,
     "metadata": {},
     "output_type": "execute_result"
    }
   ],
   "source": [
    "W = 2 # capacity of knapsack\n",
    "N = 2 # number of items\n",
    "v = [10, 15] # value of items\n",
    "w = [1, 2] # weight of items\n",
    "binary_knapsack(W, N, v, w)"
   ]
  },
  {
   "cell_type": "code",
   "execution_count": 15,
   "metadata": {},
   "outputs": [
    {
     "name": "stdout",
     "output_type": "stream",
     "text": [
      "220\n"
     ]
    }
   ],
   "source": [
    "# A Dynamic Programming based Python\n",
    "# Program for 0-1 Knapsack problem\n",
    "# Returns the maximum value that can\n",
    "# be put in a knapsack of capacity W\n",
    " \n",
    " \n",
    "def knapSack(W, wt, val, n):\n",
    "    K = [[0 for x in range(W + 1)] for x in range(n + 1)]\n",
    " \n",
    "    # Build table K[][] in bottom up manner\n",
    "    for i in range(n + 1):\n",
    "        for w in range(W + 1):\n",
    "            if i == 0 or w == 0:\n",
    "                K[i][w] = 0\n",
    "            elif wt[i-1] <= w:\n",
    "                K[i][w] = max(val[i-1]\n",
    "                          + K[i-1][w-wt[i-1]], \n",
    "                              K[i-1][w])\n",
    "            else:\n",
    "                K[i][w] = K[i-1][w]\n",
    " \n",
    "    return K[n][W]\n",
    " \n",
    " \n",
    "# Driver code\n",
    "val = [60, 100, 120]\n",
    "wt = [10, 20, 30]\n",
    "W = 50\n",
    "n = len(val)\n",
    "print(knapSack(W, wt, val, n))\n",
    " \n",
    "# This code is contributed by Bhavya Jain"
   ]
  }
 ],
 "metadata": {
  "kernelspec": {
   "display_name": "Python 3.10.8 64-bit (microsoft store)",
   "language": "python",
   "name": "python3"
  },
  "language_info": {
   "codemirror_mode": {
    "name": "ipython",
    "version": 3
   },
   "file_extension": ".py",
   "mimetype": "text/x-python",
   "name": "python",
   "nbconvert_exporter": "python",
   "pygments_lexer": "ipython3",
   "version": "3.10.8"
  },
  "orig_nbformat": 4,
  "vscode": {
   "interpreter": {
    "hash": "52c8b4c2ef8eee1eed6e32ad1192934a50f44bc4c61372d017ecac2c0abed5b2"
   }
  }
 },
 "nbformat": 4,
 "nbformat_minor": 2
}
