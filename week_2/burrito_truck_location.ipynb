{
 "cells": [
  {
   "cell_type": "markdown",
   "metadata": {},
   "source": [
    "#### Which burrito trucks to select?"
   ]
  },
  {
   "cell_type": "markdown",
   "metadata": {},
   "source": [
    "#### 0. Importing libraries"
   ]
  },
  {
   "cell_type": "code",
   "execution_count": 75,
   "metadata": {},
   "outputs": [
    {
     "name": "stdout",
     "output_type": "stream",
     "text": [
      "Requirement already satisfied: gurobipy in c:\\users\\jackson\\anaconda3\\lib\\site-packages (9.5.1)\n",
      "Note: you may need to restart the kernel to use updated packages.\n"
     ]
    }
   ],
   "source": [
    "%pip install gurobipy\n",
    "import gurobipy as gp\n",
    "from gurobipy import GRB\n",
    "import numpy as np"
   ]
  },
  {
   "cell_type": "markdown",
   "metadata": {},
   "source": [
    "#### 1. Set up the model"
   ]
  },
  {
   "cell_type": "code",
   "execution_count": 76,
   "metadata": {},
   "outputs": [],
   "source": [
    "burrito_model = gp.Model()"
   ]
  },
  {
   "cell_type": "markdown",
   "metadata": {},
   "source": [
    "#### 2. Define sets and parameters"
   ]
  },
  {
   "cell_type": "code",
   "execution_count": 77,
   "metadata": {},
   "outputs": [],
   "source": [
    "I = [1, 2, 3, 4] # set of customers\n",
    "J = [1, 2, 3, 4, 5] # set of potential truck locations\n",
    "\n",
    "d = [50, 25, 60, 30] # demand\n",
    "c = np.array([[1, 2, 3, 6, 3],\n",
    "              [2, 0.5, 2, 4, 7],\n",
    "              [3, 2, 1.5, 4, 5],\n",
    "              [4, 3, 3, 2, 1]]) # travel distance from each customer to each truck\n",
    "f = 250 # cost of setting up one truck\n",
    "r = 10 # unit burrito revenue\n",
    "k = 5 # unit burrito ingredient cost"
   ]
  },
  {
   "cell_type": "markdown",
   "metadata": {},
   "source": [
    "#### 3. Set the variables and the objective function"
   ]
  },
  {
   "cell_type": "code",
   "execution_count": 78,
   "metadata": {},
   "outputs": [],
   "source": [
    "x = burrito_model.addVars(J, vtype = GRB.BINARY, name = \"x\")\n",
    "y = burrito_model.addVars(I, J, vtype = GRB.BINARY, name = \"y\")"
   ]
  },
  {
   "cell_type": "code",
   "execution_count": 79,
   "metadata": {},
   "outputs": [
    {
     "data": {
      "text/plain": [
       "{(1, 1): <gurobi.Var *Awaiting Model Update*>,\n",
       " (1, 2): <gurobi.Var *Awaiting Model Update*>,\n",
       " (1, 3): <gurobi.Var *Awaiting Model Update*>,\n",
       " (1, 4): <gurobi.Var *Awaiting Model Update*>,\n",
       " (1, 5): <gurobi.Var *Awaiting Model Update*>,\n",
       " (2, 1): <gurobi.Var *Awaiting Model Update*>,\n",
       " (2, 2): <gurobi.Var *Awaiting Model Update*>,\n",
       " (2, 3): <gurobi.Var *Awaiting Model Update*>,\n",
       " (2, 4): <gurobi.Var *Awaiting Model Update*>,\n",
       " (2, 5): <gurobi.Var *Awaiting Model Update*>,\n",
       " (3, 1): <gurobi.Var *Awaiting Model Update*>,\n",
       " (3, 2): <gurobi.Var *Awaiting Model Update*>,\n",
       " (3, 3): <gurobi.Var *Awaiting Model Update*>,\n",
       " (3, 4): <gurobi.Var *Awaiting Model Update*>,\n",
       " (3, 5): <gurobi.Var *Awaiting Model Update*>,\n",
       " (4, 1): <gurobi.Var *Awaiting Model Update*>,\n",
       " (4, 2): <gurobi.Var *Awaiting Model Update*>,\n",
       " (4, 3): <gurobi.Var *Awaiting Model Update*>,\n",
       " (4, 4): <gurobi.Var *Awaiting Model Update*>,\n",
       " (4, 5): <gurobi.Var *Awaiting Model Update*>}"
      ]
     },
     "execution_count": 79,
     "metadata": {},
     "output_type": "execute_result"
    }
   ],
   "source": [
    "y"
   ]
  },
  {
   "cell_type": "code",
   "execution_count": 80,
   "metadata": {},
   "outputs": [],
   "source": [
    "burrito_model.setObjective(gp.quicksum(gp.quicksum((r - k) * d[i - 1] * y[i, j] for j in J) for i in I) - gp.quicksum(f * x[j] for j in J))"
   ]
  },
  {
   "cell_type": "markdown",
   "metadata": {},
   "source": [
    "#### 4. Set the \"sense\" of the optimization problem"
   ]
  },
  {
   "cell_type": "code",
   "execution_count": 81,
   "metadata": {},
   "outputs": [],
   "source": [
    "burrito_model.ModelSense = GRB.MAXIMIZE"
   ]
  },
  {
   "cell_type": "markdown",
   "metadata": {},
   "source": [
    "#### 5. Add the constraints"
   ]
  },
  {
   "cell_type": "code",
   "execution_count": 82,
   "metadata": {},
   "outputs": [],
   "source": [
    "for i in I:\n",
    "    burrito_model.addConstr(gp.quicksum(y[i, j] for j in J) <= 1)\n",
    "\n",
    "for i in I:\n",
    "    for j in J:\n",
    "        burrito_model.addConstr(y[i, j] <= x[j])"
   ]
  },
  {
   "cell_type": "markdown",
   "metadata": {},
   "source": [
    "#### 6. Update and optimize the model"
   ]
  },
  {
   "cell_type": "code",
   "execution_count": 83,
   "metadata": {},
   "outputs": [
    {
     "name": "stdout",
     "output_type": "stream",
     "text": [
      "Gurobi Optimizer version 9.5.1 build v9.5.1rc2 (win64)\n",
      "Thread count: 4 physical cores, 4 logical processors, using up to 4 threads\n",
      "Optimize a model with 24 rows, 25 columns and 60 nonzeros\n",
      "Model fingerprint: 0x92b6dc56\n",
      "Variable types: 0 continuous, 25 integer (25 binary)\n",
      "Coefficient statistics:\n",
      "  Matrix range     [1e+00, 1e+00]\n",
      "  Objective range  [1e+02, 3e+02]\n",
      "  Bounds range     [1e+00, 1e+00]\n",
      "  RHS range        [1e+00, 1e+00]\n",
      "Found heuristic solution: objective -0.0000000\n",
      "Presolve time: 0.00s\n",
      "Presolved: 24 rows, 25 columns, 60 nonzeros\n",
      "Variable types: 0 continuous, 25 integer (25 binary)\n",
      "Found heuristic solution: objective 200.0000000\n",
      "\n",
      "Root relaxation: objective 5.750000e+02, 17 iterations, 0.00 seconds (0.00 work units)\n",
      "\n",
      "    Nodes    |    Current Node    |     Objective Bounds      |     Work\n",
      " Expl Unexpl |  Obj  Depth IntInf | Incumbent    BestBd   Gap | It/Node Time\n",
      "\n",
      "*    0     0               0     575.0000000  575.00000  0.00%     -    0s\n",
      "\n",
      "Explored 1 nodes (17 simplex iterations) in 0.02 seconds (0.00 work units)\n",
      "Thread count was 4 (of 4 available processors)\n",
      "\n",
      "Solution count 3: 575 200 -0 \n",
      "\n",
      "Optimal solution found (tolerance 1.00e-04)\n",
      "Best objective 5.750000000000e+02, best bound 5.750000000000e+02, gap 0.0000%\n"
     ]
    }
   ],
   "source": [
    "burrito_model.update()\n",
    "burrito_model.write('burrito_truck_location.lp')\n",
    "burrito_model.optimize()"
   ]
  },
  {
   "cell_type": "markdown",
   "metadata": {},
   "source": [
    "#### 7. Print the results"
   ]
  },
  {
   "cell_type": "code",
   "execution_count": 84,
   "metadata": {},
   "outputs": [
    {
     "name": "stdout",
     "output_type": "stream",
     "text": [
      "The optimal objective value for this problem is 575.0\n",
      "The optimal values of the decisions variables are as follows:\n",
      "x[1] = -0.0\n",
      "x[2] = 1.0\n",
      "x[3] = -0.0\n",
      "x[4] = -0.0\n",
      "x[5] = -0.0\n",
      "y[1,1] = 0.0\n",
      "y[1,2] = 1.0\n",
      "y[1,3] = 0.0\n",
      "y[1,4] = 0.0\n",
      "y[1,5] = 0.0\n",
      "y[2,1] = 0.0\n",
      "y[2,2] = 1.0\n",
      "y[2,3] = 0.0\n",
      "y[2,4] = 0.0\n",
      "y[2,5] = 0.0\n",
      "y[3,1] = 0.0\n",
      "y[3,2] = 1.0\n",
      "y[3,3] = 0.0\n",
      "y[3,4] = 0.0\n",
      "y[3,5] = 0.0\n",
      "y[4,1] = 0.0\n",
      "y[4,2] = 1.0\n",
      "y[4,3] = 0.0\n",
      "y[4,4] = 0.0\n",
      "y[4,5] = 0.0\n"
     ]
    }
   ],
   "source": [
    "print(f\"The optimal objective value for this problem is {burrito_model.ObjVal}\") # the optimal objective value\n",
    "\n",
    "print(f\"The optimal values of the decisions variables are as follows:\")\n",
    "for var in burrito_model.getVars():\n",
    "    if var.x >= 0:\n",
    "        print(f\"{var.varName} = {var.x}\") # the optimal choice of decision variables"
   ]
  }
 ],
 "metadata": {
  "kernelspec": {
   "display_name": "Python 3.8.3 ('base')",
   "language": "python",
   "name": "python3"
  },
  "language_info": {
   "codemirror_mode": {
    "name": "ipython",
    "version": 3
   },
   "file_extension": ".py",
   "mimetype": "text/x-python",
   "name": "python",
   "nbconvert_exporter": "python",
   "pygments_lexer": "ipython3",
   "version": "3.8.3"
  },
  "orig_nbformat": 4,
  "vscode": {
   "interpreter": {
    "hash": "59dcf0e4980a5f82ba87556c3b75ed6abea52d4b8194172192e551d29fa7b344"
   }
  }
 },
 "nbformat": 4,
 "nbformat_minor": 2
}
