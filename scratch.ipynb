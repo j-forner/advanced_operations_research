{
 "cells": [
  {
   "cell_type": "markdown",
   "metadata": {},
   "source": [
    "## Welcome to OREM 5364!"
   ]
  },
  {
   "cell_type": "markdown",
   "metadata": {},
   "source": [
    "### The problem: [Wyndor Glass Co.](https://smu.app.box.com/file/1001719388234)"
   ]
  },
  {
   "cell_type": "markdown",
   "metadata": {},
   "source": [
    "### Modeling the problem using python"
   ]
  },
  {
   "cell_type": "markdown",
   "metadata": {},
   "source": [
    "#### 0. Importing libraries"
   ]
  },
  {
   "cell_type": "code",
   "execution_count": 14,
   "metadata": {},
   "outputs": [
    {
     "name": "stdout",
     "output_type": "stream",
     "text": [
      "Requirement already satisfied: gurobipy in c:\\users\\48919629\\appdata\\local\\packages\\pythonsoftwarefoundation.python.3.10_qbz5n2kfra8p0\\localcache\\local-packages\\python310\\site-packages (9.5.2)\n",
      "Note: you may need to restart the kernel to use updated packages.\n"
     ]
    },
    {
     "name": "stderr",
     "output_type": "stream",
     "text": [
      "\n",
      "[notice] A new release of pip available: 22.2.2 -> 22.3.1\n",
      "[notice] To update, run: python.exe -m pip install --upgrade pip\n"
     ]
    }
   ],
   "source": [
    "%pip install gurobipy\n",
    "import gurobipy as gp\n",
    "from gurobipy import GRB"
   ]
  },
  {
   "cell_type": "markdown",
   "metadata": {},
   "source": [
    "#### 1. Set up the model"
   ]
  },
  {
   "cell_type": "code",
   "execution_count": 15,
   "metadata": {},
   "outputs": [],
   "source": [
    "m = gp.Model()"
   ]
  },
  {
   "cell_type": "markdown",
   "metadata": {},
   "source": [
    "#### 2. Set the variables and the objective function"
   ]
  },
  {
   "cell_type": "code",
   "execution_count": 16,
   "metadata": {},
   "outputs": [],
   "source": [
    "x = m.addVars([1, 2, 3, 4, 5], obj = [5, -7, -10, 3, -5], vtype = GRB.BINARY, name = \"x\")"
   ]
  },
  {
   "cell_type": "markdown",
   "metadata": {},
   "source": [
    "#### 3. Set the \"sense\" of the optimization problem"
   ]
  },
  {
   "cell_type": "code",
<<<<<<< HEAD
   "execution_count": 17,
=======
   "execution_count": 4,
>>>>>>> f9fa8bc33b3a38f2f6085bfb8c234767c3e0114a
   "metadata": {},
   "outputs": [],
   "source": [
    "m.ModelSense = GRB.MAXIMIZE"
   ]
  },
  {
   "cell_type": "markdown",
   "metadata": {},
   "source": [
    "#### 4. Add the constraints"
   ]
  },
  {
   "cell_type": "code",
<<<<<<< HEAD
   "execution_count": 18,
   "metadata": {},
   "outputs": [
    {
     "data": {
      "text/plain": [
       "<gurobi.Constr *Awaiting Model Update*>"
      ]
     },
     "execution_count": 18,
     "metadata": {},
     "output_type": "execute_result"
    }
   ],
   "source": [
    "m.addConstr(x[1] + 3 * x[2] - 5 * x[3] + x[4] + 4 * x[5] <= 0)\n",
    "m.addConstr(-2 * x[1] - 6 * x[2] + 3 * x[3] - 2 * x[4] - 2 * x[5] <= -4)\n",
    "m.addConstr(2 * x[2] - 2 * x[3] - x[4] + x[5] <= -2)"
=======
   "execution_count": 5,
   "metadata": {},
   "outputs": [
    {
     "ename": "GurobiError",
     "evalue": "Invalid argument to QuadExpr multiplication",
     "output_type": "error",
     "traceback": [
      "\u001b[1;31m---------------------------------------------------------------------------\u001b[0m",
      "\u001b[1;31mGurobiError\u001b[0m                               Traceback (most recent call last)",
      "\u001b[1;32mc:\\Users\\48919629\\Desktop\\test\\advanced_operations_research\\scratch.ipynb Cell 13\u001b[0m in \u001b[0;36m<cell line: 4>\u001b[1;34m()\u001b[0m\n\u001b[0;32m      <a href='vscode-notebook-cell:/c%3A/Users/48919629/Desktop/test/advanced_operations_research/scratch.ipynb#X15sZmlsZQ%3D%3D?line=1'>2</a>\u001b[0m m\u001b[39m.\u001b[39maddConstr(x[\u001b[39m1\u001b[39m] \u001b[39m*\u001b[39m (\u001b[39m1\u001b[39m \u001b[39m-\u001b[39m x[\u001b[39m3\u001b[39m]) \u001b[39m==\u001b[39m \u001b[39m0\u001b[39m)\n\u001b[0;32m      <a href='vscode-notebook-cell:/c%3A/Users/48919629/Desktop/test/advanced_operations_research/scratch.ipynb#X15sZmlsZQ%3D%3D?line=2'>3</a>\u001b[0m m\u001b[39m.\u001b[39maddQConstr(\u001b[39m2\u001b[39m \u001b[39m-\u001b[39m \u001b[39m3\u001b[39m \u001b[39m*\u001b[39m x[\u001b[39m2\u001b[39m] \u001b[39m*\u001b[39m x[\u001b[39m2\u001b[39m] \u001b[39m-\u001b[39m x[\u001b[39m3\u001b[39m] \u001b[39m<\u001b[39m\u001b[39m=\u001b[39m \u001b[39m0\u001b[39m)\n\u001b[1;32m----> <a href='vscode-notebook-cell:/c%3A/Users/48919629/Desktop/test/advanced_operations_research/scratch.ipynb#X15sZmlsZQ%3D%3D?line=3'>4</a>\u001b[0m m\u001b[39m.\u001b[39maddConstr(\u001b[39m2\u001b[39m \u001b[39m*\u001b[39m x[\u001b[39m2\u001b[39m] \u001b[39m-\u001b[39m \u001b[39m3\u001b[39;49m \u001b[39m*\u001b[39;49m x[\u001b[39m2\u001b[39;49m] \u001b[39m*\u001b[39;49m x[\u001b[39m2\u001b[39;49m] \u001b[39m*\u001b[39;49m x[\u001b[39m2\u001b[39;49m] \u001b[39m-\u001b[39m x[\u001b[39m2\u001b[39m] \u001b[39m*\u001b[39m x[\u001b[39m3\u001b[39m] \u001b[39m==\u001b[39m \u001b[39m0\u001b[39m)\n\u001b[0;32m      <a href='vscode-notebook-cell:/c%3A/Users/48919629/Desktop/test/advanced_operations_research/scratch.ipynb#X15sZmlsZQ%3D%3D?line=4'>5</a>\u001b[0m m\u001b[39m.\u001b[39maddConstr(x[\u001b[39m1\u001b[39m] \u001b[39m+\u001b[39m x[\u001b[39m2\u001b[39m] \u001b[39m-\u001b[39m \u001b[39m1\u001b[39m \u001b[39m<\u001b[39m\u001b[39m=\u001b[39m \u001b[39m0\u001b[39m)\n\u001b[0;32m      <a href='vscode-notebook-cell:/c%3A/Users/48919629/Desktop/test/advanced_operations_research/scratch.ipynb#X15sZmlsZQ%3D%3D?line=5'>6</a>\u001b[0m m\u001b[39m.\u001b[39maddConstr(x[\u001b[39m3\u001b[39m] \u001b[39m*\u001b[39m (x[\u001b[39m1\u001b[39m] \u001b[39m+\u001b[39m x[\u001b[39m2\u001b[39m] \u001b[39m-\u001b[39m \u001b[39m1\u001b[39m) \u001b[39m==\u001b[39m \u001b[39m0\u001b[39m)\n",
      "File \u001b[1;32msrc\\gurobipy\\quadexpr.pxi:523\u001b[0m, in \u001b[0;36mgurobipy.QuadExpr.__mul__\u001b[1;34m()\u001b[0m\n",
      "File \u001b[1;32msrc\\gurobipy\\quadexpr.pxi:245\u001b[0m, in \u001b[0;36mgurobipy.QuadExpr._mul\u001b[1;34m()\u001b[0m\n",
      "\u001b[1;31mGurobiError\u001b[0m: Invalid argument to QuadExpr multiplication"
     ]
    }
   ],
   "source": [
    "m.addConstr(x[3] >= 1)\n",
    "m.addConstr(x[1] * (1 - x[3]) == 0)\n",
    "m.addQConstr(2 - 3 * x[2] * x[2] - x[3] <= 0)\n",
    "m.addConstr(2 * x[2] - 3 * x[2] * x[2] * x[2] - x[2] * x[3] == 0)\n",
    "m.addConstr(x[1] + x[2] - 1 <= 0)\n",
    "m.addConstr(x[3] * (x[1] + x[2] - 1) == 0)"
>>>>>>> f9fa8bc33b3a38f2f6085bfb8c234767c3e0114a
   ]
  },
  {
   "cell_type": "markdown",
   "metadata": {},
   "source": [
    "#### 5. Update and optimize the model"
   ]
  },
  {
   "cell_type": "code",
<<<<<<< HEAD
   "execution_count": 19,
=======
   "execution_count": 6,
>>>>>>> f9fa8bc33b3a38f2f6085bfb8c234767c3e0114a
   "metadata": {},
   "outputs": [
    {
     "name": "stdout",
     "output_type": "stream",
     "text": [
<<<<<<< HEAD
      "Gurobi Optimizer version 9.5.2 build v9.5.2rc0 (win64)\n",
      "Thread count: 8 physical cores, 16 logical processors, using up to 16 threads\n",
      "Optimize a model with 3 rows, 5 columns and 14 nonzeros\n",
      "Model fingerprint: 0x93e04fd2\n",
      "Variable types: 0 continuous, 5 integer (5 binary)\n",
      "Coefficient statistics:\n",
      "  Matrix range     [1e+00, 6e+00]\n",
      "  Objective range  [3e+00, 1e+01]\n",
      "  Bounds range     [1e+00, 1e+00]\n",
      "  RHS range        [2e+00, 4e+00]\n",
      "Presolve removed 0 rows and 2 columns\n",
      "Presolve time: 0.00s\n",
      "\n",
      "Explored 0 nodes (0 simplex iterations) in 0.00 seconds (0.00 work units)\n",
      "Thread count was 1 (of 16 available processors)\n",
      "\n",
      "Solution count 0\n",
      "No other solutions better than -1e+100\n",
      "\n",
      "Model is infeasible\n",
      "Best objective -, best bound -, gap -\n"
=======
      "Gurobi Optimizer version 9.5.1 build v9.5.1rc2 (win64)\n",
      "Thread count: 4 physical cores, 4 logical processors, using up to 4 threads\n",
      "Optimize a model with 2 rows, 3 columns and 3 nonzeros\n",
      "Model fingerprint: 0x3d5cae90\n",
      "Model has 3 quadratic constraints\n",
      "Coefficient statistics:\n",
      "  Matrix range     [1e+00, 1e+00]\n",
      "  QMatrix range    [1e+00, 3e+00]\n",
      "  QLMatrix range   [1e+00, 1e+00]\n",
      "  Objective range  [0e+00, 0e+00]\n",
      "  Bounds range     [0e+00, 0e+00]\n",
      "  RHS range        [1e+00, 1e+00]\n",
      "  QRHS range       [2e+00, 2e+00]\n",
      "Presolve removed 1 rows and 0 columns\n"
     ]
    },
    {
     "ename": "GurobiError",
     "evalue": "Quadratic equality constraints are non-convex. Set NonConvex parameter to 2 to solve model.",
     "output_type": "error",
     "traceback": [
      "\u001b[1;31m---------------------------------------------------------------------------\u001b[0m",
      "\u001b[1;31mGurobiError\u001b[0m                               Traceback (most recent call last)",
      "\u001b[1;32m<ipython-input-6-ba0b843794e4>\u001b[0m in \u001b[0;36m<module>\u001b[1;34m\u001b[0m\n\u001b[0;32m      1\u001b[0m \u001b[0mm\u001b[0m\u001b[1;33m.\u001b[0m\u001b[0mupdate\u001b[0m\u001b[1;33m(\u001b[0m\u001b[1;33m)\u001b[0m\u001b[1;33m\u001b[0m\u001b[1;33m\u001b[0m\u001b[0m\n\u001b[1;32m----> 2\u001b[1;33m \u001b[0mm\u001b[0m\u001b[1;33m.\u001b[0m\u001b[0moptimize\u001b[0m\u001b[1;33m(\u001b[0m\u001b[1;33m)\u001b[0m\u001b[1;33m\u001b[0m\u001b[1;33m\u001b[0m\u001b[0m\n\u001b[0m",
      "\u001b[1;32msrc\\gurobipy\\model.pxi\u001b[0m in \u001b[0;36mgurobipy.Model.optimize\u001b[1;34m()\u001b[0m\n",
      "\u001b[1;31mGurobiError\u001b[0m: Quadratic equality constraints are non-convex. Set NonConvex parameter to 2 to solve model."
>>>>>>> f9fa8bc33b3a38f2f6085bfb8c234767c3e0114a
     ]
    }
   ],
   "source": [
    "m.update()\n",
    "m.optimize()"
   ]
  },
  {
   "cell_type": "markdown",
   "metadata": {},
   "source": [
    "#### 6. Print the results"
   ]
  },
  {
   "cell_type": "code",
   "execution_count": 20,
   "metadata": {},
   "outputs": [
    {
     "ename": "AttributeError",
     "evalue": "Unable to retrieve attribute 'ObjVal'",
     "output_type": "error",
     "traceback": [
      "\u001b[1;31m---------------------------------------------------------------------------\u001b[0m",
      "\u001b[1;31mAttributeError\u001b[0m                            Traceback (most recent call last)",
      "\u001b[1;32mc:\\Users\\48919629\\Desktop\\smu\\fall_22\\advanced_operations_research\\advanced_operations_research\\scratch.ipynb Cell 17\u001b[0m in \u001b[0;36m<cell line: 1>\u001b[1;34m()\u001b[0m\n\u001b[1;32m----> <a href='vscode-notebook-cell:/c%3A/Users/48919629/Desktop/smu/fall_22/advanced_operations_research/advanced_operations_research/scratch.ipynb#X22sZmlsZQ%3D%3D?line=0'>1</a>\u001b[0m \u001b[39mprint\u001b[39m(\u001b[39mf\u001b[39m\u001b[39m\"\u001b[39m\u001b[39mThe optimal objective value for this problem is \u001b[39m\u001b[39m{\u001b[39;00mm\u001b[39m.\u001b[39mObjVal\u001b[39m}\u001b[39;00m\u001b[39m\"\u001b[39m) \u001b[39m# the optimal objective value\u001b[39;00m\n\u001b[0;32m      <a href='vscode-notebook-cell:/c%3A/Users/48919629/Desktop/smu/fall_22/advanced_operations_research/advanced_operations_research/scratch.ipynb#X22sZmlsZQ%3D%3D?line=2'>3</a>\u001b[0m \u001b[39mprint\u001b[39m(\u001b[39mf\u001b[39m\u001b[39m\"\u001b[39m\u001b[39mThe optimal values of the decisions variables are as follows:\u001b[39m\u001b[39m\"\u001b[39m)\n\u001b[0;32m      <a href='vscode-notebook-cell:/c%3A/Users/48919629/Desktop/smu/fall_22/advanced_operations_research/advanced_operations_research/scratch.ipynb#X22sZmlsZQ%3D%3D?line=3'>4</a>\u001b[0m \u001b[39mfor\u001b[39;00m var \u001b[39min\u001b[39;00m m\u001b[39m.\u001b[39mgetVars():\n",
      "File \u001b[1;32msrc\\gurobipy\\model.pxi:353\u001b[0m, in \u001b[0;36mgurobipy.Model.__getattr__\u001b[1;34m()\u001b[0m\n",
      "File \u001b[1;32msrc\\gurobipy\\model.pxi:1884\u001b[0m, in \u001b[0;36mgurobipy.Model.getAttr\u001b[1;34m()\u001b[0m\n",
      "File \u001b[1;32msrc\\gurobipy\\attrutil.pxi:100\u001b[0m, in \u001b[0;36mgurobipy.__getattr\u001b[1;34m()\u001b[0m\n",
      "\u001b[1;31mAttributeError\u001b[0m: Unable to retrieve attribute 'ObjVal'"
     ]
    }
   ],
   "source": [
    "print(f\"The optimal objective value for this problem is {m.ObjVal}\") # the optimal objective value\n",
    "\n",
    "print(f\"The optimal values of the decisions variables are as follows:\")\n",
    "for var in m.getVars():\n",
    "    if var.x >= 0:\n",
    "        print(f\"{var.varName} = {var.x}\") # the optimal choice of decision variables"
   ]
  }
 ],
 "metadata": {
  "kernelspec": {
   "display_name": "Python 3.10.8 64-bit (microsoft store)",
   "language": "python",
   "name": "python3"
  },
  "language_info": {
   "codemirror_mode": {
    "name": "ipython",
    "version": 3
   },
   "file_extension": ".py",
   "mimetype": "text/x-python",
   "name": "python",
   "nbconvert_exporter": "python",
   "pygments_lexer": "ipython3",
   "version": "3.10.8"
  },
  "orig_nbformat": 4,
  "vscode": {
   "interpreter": {
    "hash": "e66f44aa3b4d8bc1cfb20c33da445c070c54f6eb86b7bc36924372fdce86f151"
   }
  }
 },
 "nbformat": 4,
 "nbformat_minor": 2
}
