{
 "cells": [
  {
   "cell_type": "markdown",
   "metadata": {},
   "source": [
    "## Nonlinear Programming - Newton's method"
   ]
  },
  {
   "cell_type": "markdown",
   "metadata": {},
   "source": [
    "### Modeling the problem using python"
   ]
  },
  {
   "cell_type": "markdown",
   "metadata": {},
   "source": [
    "#### 0. Importing libraries"
   ]
  },
  {
   "cell_type": "code",
   "execution_count": 9,
   "metadata": {},
   "outputs": [
    {
     "name": "stdout",
     "output_type": "stream",
     "text": [
      "Requirement already satisfied: prettytable in c:\\users\\jackson\\anaconda3\\lib\\site-packages (3.5.0)\n",
      "Requirement already satisfied: wcwidth in c:\\users\\jackson\\anaconda3\\lib\\site-packages (from prettytable) (0.2.5)\n",
      "Note: you may need to restart the kernel to use updated packages.\n"
     ]
    }
   ],
   "source": [
    "import numpy as np\n",
    "%pip install prettytable\n",
    "from prettytable import PrettyTable"
   ]
  },
  {
   "cell_type": "markdown",
   "metadata": {},
   "source": [
    "#### 1. Function we want to maximize, along with some plots"
   ]
  },
  {
   "cell_type": "code",
   "execution_count": 10,
   "metadata": {},
   "outputs": [],
   "source": [
    "def f(x):\n",
    "    return 48 * x ** 5 + 42 * x ** 3 + 3.5 * x - 16 * x ** 6 - 61 * x ** 4 - 16.5 * x ** 2\n",
    "\n",
    "def first_der_f(x):\n",
    "    return 240 * x ** 4 + 126 * x ** 2 + 3.5 - 96 * x ** 5 - 244 * x ** 3 - 33 * x\n",
    "\n",
    "def second_der_f(x):\n",
    "    return 960 * x ** 3 + 252 * x - 480 * x ** 4 - 732 * x ** 2 - 33"
   ]
  },
  {
   "cell_type": "markdown",
   "metadata": {},
   "source": [
    "#### 2. Newton's Method"
   ]
  },
  {
   "cell_type": "code",
   "execution_count": 11,
   "metadata": {},
   "outputs": [],
   "source": [
    "def newton(x_current, eps):\n",
    "\n",
    "    # this function is specific to the function f we defined above\n",
    "\n",
    "    ### for formatting output ###\n",
    "    table = PrettyTable(['iteration', 'x_current', 'f(x_current)', 'first_der_f(x_current)', 'second_der_f(x)', 'x_new'])\n",
    "\n",
    "    ### algorithm ###\n",
    "\n",
    "    i = 0\n",
    "    x_new = x_current - first_der_f(x_current)/second_der_f(x_current)\n",
    "    table.add_row([i, x_current, f(x_current), first_der_f(x_current), second_der_f(x_current), x_new])\n",
    "\n",
    "    while np.abs(x_new - x_current) > eps:\n",
    "        i += 1\n",
    "        x_current = x_new\n",
    "        x_new = x_current - first_der_f(x_current)/second_der_f(x_current)\n",
    "        table.add_row([i, x_current, f(x_current), first_der_f(x_current), second_der_f(x_current), x_new])\n",
    "\n",
    "    print(table)"
   ]
  },
  {
   "cell_type": "markdown",
   "metadata": {},
   "source": [
    "#### 3. Output"
   ]
  },
  {
   "cell_type": "code",
   "execution_count": 12,
   "metadata": {},
   "outputs": [
    {
     "name": "stdout",
     "output_type": "stream",
     "text": [
      "+-----------+--------------------+---------------------+-------------------------+-------------------------+--------------------+\n",
      "| iteration |     x_current      |     f(x_current)    |  first_der_f(x_current) |     second_der_f(x)     |       x_new        |\n",
      "+-----------+--------------------+---------------------+-------------------------+-------------------------+--------------------+\n",
      "|     0     |         1          |         0.0         |           -3.5          |           -33           | 0.8939393939393939 |\n",
      "|     1     | 0.8939393939393939 |  0.2286172591187956 |   -1.1553291415777949   |   -13.422286982016544   | 0.8078639625970505 |\n",
      "|     2     | 0.8078639625970505 |  0.2898936988313032 |   -0.3822182564516119   |   -5.4493418345588225   | 0.7377237019828884 |\n",
      "|     3     | 0.7377237019828884 |  0.3064186119943333 |   -0.1266217430152281   |    -2.21111194971337    | 0.6804576087705378 |\n",
      "|     4     | 0.6804576087705378 |  0.3108869746479641 |   -0.04187798128233311  |   -0.8998078027209999   | 0.6339165795021819 |\n",
      "|     5     | 0.6339165795021819 | 0.31208610026031725 |  -0.013741142592099465  |   -0.36957939287361796  | 0.5967360903919614 |\n",
      "|     6     | 0.5967360903919614 |  0.3123993187833909 |  -0.004434206424026144  |   -0.15432793570096237  | 0.5680037263913297 |\n",
      "|     7     | 0.5680037263913297 | 0.31247703153691386 |  -0.0013975506522285741 |   -0.06575939195982983  | 0.5467512389431141 |\n",
      "|     8     | 0.5467512389431141 | 0.31249505574777636 |  -0.0004301732779055101 |   -0.02852119122516683  | 0.5316686544006448 |\n",
      "|     9     | 0.5316686544006448 |  0.3124989780444434 |  -0.0001301003109652754 |  -0.012517635630302948  | 0.5212752930017617 |\n",
      "|     10    | 0.5212752930017617 |  0.3124997936349647 |  -3.893848736069572e-05 |  -0.005530000104243982  | 0.5142339753477507 |\n",
      "|     11    | 0.5142339753477507 |  0.3124999588177175 | -1.1591650491027394e-05 |  -0.0024509762727120687 | 0.5095045739985484 |\n",
      "|     12    | 0.5095045739985484 |  0.3124999918274458 |  -3.441902229894822e-06 |  -0.0010879602876627814 | 0.5063409454461782 |\n",
      "|     13    | 0.5063409454461782 |  0.3124999983823109 | -1.0208006280265636e-06 | -0.00048326706192369784 | 0.5042286545237157 |\n",
      "|     14    | 0.5042286545237157 | 0.31249999968015985 | -3.0258886951628483e-07 | -0.00021473170832564392 | 0.5028195060012376 |\n",
      "|     15    | 0.5028195060012376 |  0.3124999999367972 |  -8.967305120677338e-08 |  -9.542570336407152e-05 | 0.5018797900961355 |\n",
      "+-----------+--------------------+---------------------+-------------------------+-------------------------+--------------------+\n"
     ]
    }
   ],
   "source": [
    "x_current = 1\n",
    "eps = 0.001\n",
    "\n",
    "newton(x_current, eps)"
   ]
  }
 ],
 "metadata": {
  "kernelspec": {
   "display_name": "Python 3.8.3 ('base')",
   "language": "python",
   "name": "python3"
  },
  "language_info": {
   "codemirror_mode": {
    "name": "ipython",
    "version": 3
   },
   "file_extension": ".py",
   "mimetype": "text/x-python",
   "name": "python",
   "nbconvert_exporter": "python",
   "pygments_lexer": "ipython3",
   "version": "3.8.3"
  },
  "orig_nbformat": 4,
  "vscode": {
   "interpreter": {
    "hash": "59dcf0e4980a5f82ba87556c3b75ed6abea52d4b8194172192e551d29fa7b344"
   }
  }
 },
 "nbformat": 4,
 "nbformat_minor": 2
}
