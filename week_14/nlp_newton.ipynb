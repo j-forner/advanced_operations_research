{
 "cells": [
  {
   "cell_type": "markdown",
   "metadata": {},
   "source": [
    "## Nonlinear Programming - Newton's method"
   ]
  },
  {
   "cell_type": "markdown",
   "metadata": {},
   "source": [
    "### Modeling the problem using python"
   ]
  },
  {
   "cell_type": "markdown",
   "metadata": {},
   "source": [
    "#### 0. Importing libraries"
   ]
  },
  {
   "cell_type": "code",
   "execution_count": 3,
   "metadata": {},
   "outputs": [
    {
     "name": "stdout",
     "output_type": "stream",
     "text": [
      "Requirement already satisfied: matplotlib in c:\\users\\48919629\\appdata\\local\\packages\\pythonsoftwarefoundation.python.3.10_qbz5n2kfra8p0\\localcache\\local-packages\\python310\\site-packages (3.6.2)\n",
      "Requirement already satisfied: kiwisolver>=1.0.1 in c:\\users\\48919629\\appdata\\local\\packages\\pythonsoftwarefoundation.python.3.10_qbz5n2kfra8p0\\localcache\\local-packages\\python310\\site-packages (from matplotlib) (1.4.4)\n",
      "Requirement already satisfied: packaging>=20.0 in c:\\users\\48919629\\appdata\\local\\packages\\pythonsoftwarefoundation.python.3.10_qbz5n2kfra8p0\\localcache\\local-packages\\python310\\site-packages (from matplotlib) (21.3)\n",
      "Requirement already satisfied: python-dateutil>=2.7 in c:\\users\\48919629\\appdata\\local\\packages\\pythonsoftwarefoundation.python.3.10_qbz5n2kfra8p0\\localcache\\local-packages\\python310\\site-packages (from matplotlib) (2.8.2)\n",
      "Requirement already satisfied: cycler>=0.10 in c:\\users\\48919629\\appdata\\local\\packages\\pythonsoftwarefoundation.python.3.10_qbz5n2kfra8p0\\localcache\\local-packages\\python310\\site-packages (from matplotlib) (0.11.0)\n",
      "Requirement already satisfied: contourpy>=1.0.1 in c:\\users\\48919629\\appdata\\local\\packages\\pythonsoftwarefoundation.python.3.10_qbz5n2kfra8p0\\localcache\\local-packages\\python310\\site-packages (from matplotlib) (1.0.6)\n",
      "Requirement already satisfied: fonttools>=4.22.0 in c:\\users\\48919629\\appdata\\local\\packages\\pythonsoftwarefoundation.python.3.10_qbz5n2kfra8p0\\localcache\\local-packages\\python310\\site-packages (from matplotlib) (4.38.0)\n",
      "Requirement already satisfied: numpy>=1.19 in c:\\users\\48919629\\appdata\\local\\packages\\pythonsoftwarefoundation.python.3.10_qbz5n2kfra8p0\\localcache\\local-packages\\python310\\site-packages (from matplotlib) (1.23.3)\n",
      "Requirement already satisfied: pyparsing>=2.2.1 in c:\\users\\48919629\\appdata\\local\\packages\\pythonsoftwarefoundation.python.3.10_qbz5n2kfra8p0\\localcache\\local-packages\\python310\\site-packages (from matplotlib) (3.0.9)\n",
      "Requirement already satisfied: pillow>=6.2.0 in c:\\users\\48919629\\appdata\\local\\packages\\pythonsoftwarefoundation.python.3.10_qbz5n2kfra8p0\\localcache\\local-packages\\python310\\site-packages (from matplotlib) (9.3.0)\n",
      "Requirement already satisfied: six>=1.5 in c:\\users\\48919629\\appdata\\local\\packages\\pythonsoftwarefoundation.python.3.10_qbz5n2kfra8p0\\localcache\\local-packages\\python310\\site-packages (from python-dateutil>=2.7->matplotlib) (1.16.0)\n",
      "Note: you may need to restart the kernel to use updated packages.\n"
     ]
    },
    {
     "name": "stderr",
     "output_type": "stream",
     "text": [
      "\n",
      "[notice] A new release of pip available: 22.2.2 -> 22.3.1\n",
      "[notice] To update, run: python.exe -m pip install --upgrade pip\n"
     ]
    },
    {
     "name": "stdout",
     "output_type": "stream",
     "text": [
      "Requirement already satisfied: prettytable in c:\\users\\48919629\\appdata\\local\\packages\\pythonsoftwarefoundation.python.3.10_qbz5n2kfra8p0\\localcache\\local-packages\\python310\\site-packages (3.5.0)\n",
      "Requirement already satisfied: wcwidth in c:\\users\\48919629\\appdata\\local\\packages\\pythonsoftwarefoundation.python.3.10_qbz5n2kfra8p0\\localcache\\local-packages\\python310\\site-packages (from prettytable) (0.2.5)\n",
      "Note: you may need to restart the kernel to use updated packages.\n"
     ]
    },
    {
     "name": "stderr",
     "output_type": "stream",
     "text": [
      "\n",
      "[notice] A new release of pip available: 22.2.2 -> 22.3.1\n",
      "[notice] To update, run: python.exe -m pip install --upgrade pip\n"
     ]
    }
   ],
   "source": [
    "import numpy as np\n",
    "%pip install matplotlib\n",
    "import matplotlib.pyplot as plt\n",
    "%pip install prettytable\n",
    "from prettytable import PrettyTable"
   ]
  },
  {
   "cell_type": "markdown",
   "metadata": {},
   "source": [
    "#### 1. Function we want to maximize, along with some plots"
   ]
  },
  {
   "cell_type": "code",
   "execution_count": 4,
   "metadata": {},
   "outputs": [],
   "source": [
    "def f(x):\n",
    "    return 12 * x - 3 * x**4 - 2 * x**6\n",
    "\n",
    "def first_der_f(x):\n",
    "    return 12 * (1 - x**3 - x**5)\n",
    "\n",
    "def second_der_f(x):\n",
    "    return -12 * (3 * x**2 + 5 * x**4)"
   ]
  },
  {
   "cell_type": "code",
   "execution_count": 5,
   "metadata": {},
   "outputs": [
    {
     "data": {
      "image/png": "[encoded data removed]",
      "text/plain": [
       "<Figure size 640x480 with 1 Axes>"
      ]
     },
     "metadata": {},
     "output_type": "display_data"
    }
   ],
   "source": [
    "x = np.linspace(-1, 2, 50)\n",
    "\n",
    "plt.plot(x, f(x))\n",
    "plt.xlabel(\"x\", fontsize = 15)\n",
    "plt.ylabel(\"f(x)\", fontsize = 15)\n",
    "plt.grid(True)\n",
    "plt.show()"
   ]
  },
  {
   "cell_type": "markdown",
   "metadata": {},
   "source": [
    "#### 2. Newton's Method"
   ]
  },
  {
   "cell_type": "code",
   "execution_count": 6,
   "metadata": {},
   "outputs": [],
   "source": [
    "def newton(x_current, eps):\n",
    "\n",
    "    # this function is specific to the function f we defined above\n",
    "\n",
    "    ### for formatting output ###\n",
    "    table = PrettyTable(['iteration', 'x_current', 'f(x_current)', 'first_der_f(x_current)', 'second_der_f(x)', 'x_new'])\n",
    "\n",
    "    ### algorithm ###\n",
    "\n",
    "    i = 0\n",
    "    x_new = x_current - first_der_f(x_current)/second_der_f(x_current)\n",
    "    table.add_row([i, x_current, f(x_current), first_der_f(x_current), second_der_f(x), x_new])\n",
    "\n",
    "    while np.abs(x_new - x_current) > eps:\n",
    "        i += 1\n",
    "        x_current = x_new\n",
    "        x_new = x_current - first_der_f(x_current)/second_der_f(x_current)\n",
    "        table.add_row([i, x_current, f(x_current), first_der_f(x_current), second_der_f(x), x_new])\n",
    "\n",
    "    print(table)"
   ]
  },
  {
   "cell_type": "markdown",
   "metadata": {},
   "source": [
    "#### 3. Output"
   ]
  },
  {
   "cell_type": "code",
   "execution_count": 15,
   "metadata": {},
   "outputs": [
    {
     "name": "stdout",
     "output_type": "stream",
     "text": [
      "+-----------+--------------------+--------------------+-------------------------+-----------------+--------------------+\n",
      "| iteration |     x_current      |    f(x_current)    |  first_der_f(x_current) | second_der_f(x) |       x_new        |\n",
      "+-----------+--------------------+--------------------+-------------------------+-----------------+--------------------+\n",
      "|     0     |         1          |         7          |           -12           |       -96       |       0.875        |\n",
      "|     1     |       0.875        | 7.843864440917969  |     -2.1939697265625    |       -96       | 0.8400270863494139 |\n",
      "|     2     | 0.8400270863494139 | 7.883786288414565  |   -0.13248855084051292  |       -96       | 0.8376303777101902 |\n",
      "|     3     | 0.8376303777101902 | 7.8839455210495855 |  -0.0005809749015732724 |       -96       | 0.8376197750335194 |\n",
      "|     4     | 0.8376197750335194 | 7.883945524129571  | -1.1317883963357644e-08 |       -96       | 0.8376197748269621 |\n",
      "+-----------+--------------------+--------------------+-------------------------+-----------------+--------------------+\n"
     ]
    }
   ],
   "source": [
    "x_current = 1\n",
    "eps = 0.00001\n",
    "\n",
    "newton(x_current, eps)"
   ]
  }
 ],
 "metadata": {
  "kernelspec": {
   "display_name": "Python 3.10.8 64-bit (microsoft store)",
   "language": "python",
   "name": "python3"
  },
  "language_info": {
   "codemirror_mode": {
    "name": "ipython",
    "version": 3
   },
   "file_extension": ".py",
   "mimetype": "text/x-python",
   "name": "python",
   "nbconvert_exporter": "python",
   "pygments_lexer": "ipython3",
   "version": "3.10.8"
  },
  "orig_nbformat": 4,
  "vscode": {
   "interpreter": {
    "hash": "e66f44aa3b4d8bc1cfb20c33da445c070c54f6eb86b7bc36924372fdce86f151"
   }
  }
 },
 "nbformat": 4,
 "nbformat_minor": 2
}
