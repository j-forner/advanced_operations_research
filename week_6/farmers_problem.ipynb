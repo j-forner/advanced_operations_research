{
 "cells": [
  {
   "cell_type": "markdown",
   "metadata": {},
   "source": [
    "# What should the farmer do?"
   ]
  },
  {
   "cell_type": "markdown",
   "metadata": {},
   "source": [
    "#### 0. Importing libraries"
   ]
  },
  {
   "cell_type": "code",
   "execution_count": null,
   "metadata": {},
   "outputs": [],
   "source": [
    "%pip install gurobipy\n",
    "import gurobipy as gp\n",
    "from gurobipy import GRB\n",
    "%pip install numpy\n",
    "import numpy as np\n",
    "%pip install scipy\n",
    "import scipy"
   ]
  },
  {
   "cell_type": "markdown",
   "metadata": {},
   "source": [
    "## Part 1: Scenario Problems"
   ]
  },
  {
   "cell_type": "markdown",
   "metadata": {},
   "source": [
    "### Case 1: Year with Average Yield"
   ]
  },
  {
   "cell_type": "markdown",
   "metadata": {},
   "source": [
    "#### 1. Set up the model"
   ]
  },
  {
   "cell_type": "code",
   "execution_count": null,
   "metadata": {},
   "outputs": [],
   "source": [
    "environment = gp.Env(empty = True)\n",
    "environment.setParam(\"OutputFlag\", 0)\n",
    "environment.start()\n",
    "farmers_problem_average_yield = gp.Model(env = environment)\n",
    "\n",
    "x = farmers_problem_average_yield.addVars(3, lb = 0.0, name = \"x\")\n",
    "y = farmers_problem_average_yield.addVars(2, lb = 0.0, name = \"y\")\n",
    "w = farmers_problem_average_yield.addVars(4, lb = 0.0, name = \"w\")\n",
    "\n",
    "farmers_problem_average_yield.setObjective(150 * x[0] + 230 * x[1] + 260 * x[2] + 238 * y[0] - 170 * w[0] + 210 * y[1] - 150 * w[1] - 36 * w[2] - 10 * w[3], GRB.MINIMIZE)\n",
    "\n",
    "farmers_problem_average_yield.addConstr(x[0] + x[1] + x[2] <= 500) # no more than 500 acres devoted to our 3 crops\n",
    "farmers_problem_average_yield.addConstr(2.5 * x[0] + y[0] - w[0] >= 200) # we need at least 200 tons of wheat to feed our cattle\n",
    "farmers_problem_average_yield.addConstr(3 * x[1] + y[1] - w[1] >= 240) # we need at least 240 tons of corn to feed our cattle\n",
    "farmers_problem_average_yield.addConstr(w[2] + w[3] <= 20 * x[2]) # the amount of sugar beets we sell (in tons) is bounded above by the amound of sugar beets we produce\n",
    "farmers_problem_average_yield.addConstr(w[2] <= 6000) # maximum number of sugar beets sold at the favorable price\n",
    "\n",
    "farmers_problem_average_yield.update()\n",
    "farmers_problem_average_yield.write('farmers_problem_average_yield.lp')\n",
    "farmers_problem_average_yield.optimize()\n",
    "\n",
    "print(f\"The optimal objective value for this problem is {farmers_problem_average_yield.objVal}.\") # optimal objective value\n",
    "\n",
    "print(\"The optimal values of the decision variables are as follows:\")\n",
    "for var in farmers_problem_average_yield.getVars():\n",
    "    print(f\"{var.varName} = {var.x}\")"
   ]
  },
  {
   "cell_type": "code",
   "execution_count": null,
   "metadata": {},
   "outputs": [],
   "source": [
    "# choosing as though it's going to be a year with above average yield\n",
    "farmers_problem_average_yield.addConstr(x[0] == 183.33)\n",
    "farmers_problem_average_yield.addConstr(x[1] == 66.67)\n",
    "farmers_problem_average_yield.addConstr(x[2] == 250)\n",
    "\n",
    "farmers_problem_average_yield.update()\n",
    "farmers_problem_average_yield.write('farmers_problem_average_yield.lp')\n",
    "farmers_problem_average_yield.optimize()\n",
    "\n",
    "print(f\"The optimal objective value for this problem is {farmers_problem_average_yield.objVal}.\") # optimal objective value\n",
    "\n",
    "print(\"The optimal values of the decision variables are as follows:\")\n",
    "for var in farmers_problem_average_yield.getVars():\n",
    "    print(f\"{var.varName} = {var.x}\")"
   ]
  },
  {
   "cell_type": "code",
   "execution_count": null,
   "metadata": {},
   "outputs": [],
   "source": [
    "# choosing as though it's going to be a year with below average yield\n",
    "farmers_problem_average_yield.addConstr(x[0] == 100)\n",
    "farmers_problem_average_yield.addConstr(x[1] == 25)\n",
    "farmers_problem_average_yield.addConstr(x[2] == 375)\n",
    "\n",
    "farmers_problem_average_yield.update()\n",
    "farmers_problem_average_yield.write('farmers_problem_average_yield.lp')\n",
    "farmers_problem_average_yield.optimize()\n",
    "\n",
    "print(f\"The optimal objective value for this problem is {farmers_problem_average_yield.objVal}.\") # optimal objective value\n",
    "\n",
    "print(\"The optimal values of the decision variables are as follows:\")\n",
    "for var in farmers_problem_average_yield.getVars():\n",
    "    print(f\"{var.varName} = {var.x}\")"
   ]
  },
  {
   "cell_type": "code",
   "execution_count": null,
   "metadata": {},
   "outputs": [],
   "source": [
    "# choosing according to the stochastic solution\n",
    "farmers_problem_average_yield.addConstr(x[0] == 166.67)\n",
    "farmers_problem_average_yield.addConstr(x[1] == 83.33)\n",
    "farmers_problem_average_yield.addConstr(x[2] == 250)\n",
    "\n",
    "farmers_problem_average_yield.update()\n",
    "farmers_problem_average_yield.write('farmers_problem_average_yield.lp')\n",
    "farmers_problem_average_yield.optimize()\n",
    "\n",
    "print(f\"The optimal objective value for this problem is {farmers_problem_average_yield.objVal}.\") # optimal objective value\n",
    "\n",
    "print(\"The optimal values of the decision variables are as follows:\")\n",
    "for var in farmers_problem_average_yield.getVars():\n",
    "    print(f\"{var.varName} = {var.x}\")"
   ]
  },
  {
   "cell_type": "markdown",
   "metadata": {},
   "source": [
    "### Case 2: Year with Above Average Yield"
   ]
  },
  {
   "cell_type": "code",
   "execution_count": null,
   "metadata": {},
   "outputs": [],
   "source": [
    "environment = gp.Env(empty = True)\n",
    "environment.setParam(\"OutputFlag\", 0)\n",
    "environment.start()\n",
    "farmers_problem_above_average_yield = gp.Model(env = environment)\n",
    "\n",
    "x = farmers_problem_above_average_yield.addVars(3, lb = 0.0, name = \"x\")\n",
    "y = farmers_problem_above_average_yield.addVars(2, lb = 0.0, name = \"y\")\n",
    "w = farmers_problem_above_average_yield.addVars(4, lb = 0.0, name = \"w\")\n",
    "\n",
    "farmers_problem_above_average_yield.setObjective(150 * x[0] + 230 * x[1] + 260 * x[2] + 238 * y[0] - 170 * w[0] + 210 * y[1] - 150 * w[1] - 36 * w[2] - 10 * w[3], GRB.MINIMIZE)\n",
    "\n",
    "farmers_problem_above_average_yield.addConstr(x[0] + x[1] + x[2] <= 500) # no more than 500 acres devoted to our 3 crops\n",
    "farmers_problem_above_average_yield.addConstr(3 * x[0] + y[0] - w[0] >= 200) # we need at least 200 tons of wheat to feed our cattle\n",
    "farmers_problem_above_average_yield.addConstr(3.6 * x[1] + y[1] - w[1] >= 240) # we need at least 240 tons of corn to feed our cattle\n",
    "farmers_problem_above_average_yield.addConstr(w[2] + w[3] <= 24 * x[2]) # the amount of sugar beets we sell (in tons) is bounded above by the amound of sugar beets we produce\n",
    "farmers_problem_above_average_yield.addConstr(w[2] <= 6000) # maximum number of sugar beets sold at the favorable price\n",
    "\n",
    "farmers_problem_above_average_yield.update()\n",
    "farmers_problem_above_average_yield.write('farmers_problem_above_average_yield.lp')\n",
    "farmers_problem_above_average_yield.optimize()\n",
    "\n",
    "print(f\"The optimal objective value for this problem is {farmers_problem_above_average_yield.objVal}.\") # optimal objective value\n",
    "\n",
    "print(\"The optimal values of the decision variables are as follows:\")\n",
    "for var in farmers_problem_above_average_yield.getVars():\n",
    "    print(f\"{var.varName} = {var.x}\")"
   ]
  },
  {
   "cell_type": "code",
   "execution_count": null,
   "metadata": {},
   "outputs": [],
   "source": [
    "# choosing as though it's going to be a year with average yield\n",
    "farmers_problem_above_average_yield.addConstr(x[0] == 120)\n",
    "farmers_problem_above_average_yield.addConstr(x[1] == 80)\n",
    "farmers_problem_above_average_yield.addConstr(x[2] == 300)\n",
    "\n",
    "farmers_problem_above_average_yield.update()\n",
    "farmers_problem_above_average_yield.write('farmers_problem_above_average_yield.lp')\n",
    "farmers_problem_above_average_yield.optimize()\n",
    "\n",
    "print(f\"The optimal objective value for this problem is {farmers_problem_above_average_yield.objVal}.\") # optimal objective value\n",
    "\n",
    "print(\"The optimal values of the decision variables are as follows:\")\n",
    "for var in farmers_problem_above_average_yield.getVars():\n",
    "    print(f\"{var.varName} = {var.x}\")"
   ]
  },
  {
   "cell_type": "code",
   "execution_count": null,
   "metadata": {},
   "outputs": [],
   "source": [
    "# choosing as though it's going to be a year with below average yield\n",
    "farmers_problem_above_average_yield.addConstr(x[0] == 100)\n",
    "farmers_problem_above_average_yield.addConstr(x[1] == 25)\n",
    "farmers_problem_above_average_yield.addConstr(x[2] == 375)\n",
    "\n",
    "farmers_problem_above_average_yield.update()\n",
    "farmers_problem_above_average_yield.write('farmers_problem_above_average_yield.lp')\n",
    "farmers_problem_above_average_yield.optimize()\n",
    "\n",
    "print(f\"The optimal objective value for this problem is {farmers_problem_above_average_yield.objVal}.\") # optimal objective value\n",
    "\n",
    "print(\"The optimal values of the decision variables are as follows:\")\n",
    "for var in farmers_problem_above_average_yield.getVars():\n",
    "    print(f\"{var.varName} = {var.x}\")"
   ]
  },
  {
   "cell_type": "code",
   "execution_count": null,
   "metadata": {},
   "outputs": [],
   "source": [
    "# choosing according to the stochastic solution\n",
    "farmers_problem_above_average_yield.addConstr(x[0] == 166.67)\n",
    "farmers_problem_above_average_yield.addConstr(x[1] == 83.33)\n",
    "farmers_problem_above_average_yield.addConstr(x[2] == 250)\n",
    "\n",
    "farmers_problem_above_average_yield.update()\n",
    "farmers_problem_above_average_yield.write('farmers_problem_above_average_yield.lp')\n",
    "farmers_problem_above_average_yield.optimize()\n",
    "\n",
    "print(f\"The optimal objective value for this problem is {farmers_problem_above_average_yield.objVal}.\") # optimal objective value\n",
    "\n",
    "print(\"The optimal values of the decision variables are as follows:\")\n",
    "for var in farmers_problem_above_average_yield.getVars():\n",
    "    print(f\"{var.varName} = {var.x}\")"
   ]
  },
  {
   "cell_type": "markdown",
   "metadata": {},
   "source": [
    "### Case 3: Year with Below Average Yields"
   ]
  },
  {
   "cell_type": "code",
   "execution_count": null,
   "metadata": {},
   "outputs": [],
   "source": [
    "environment = gp.Env(empty = True)\n",
    "environment.setParam(\"OutputFlag\", 0)\n",
    "environment.start()\n",
    "farmers_problem_below_average_yield = gp.Model(env = environment)\n",
    "\n",
    "x = farmers_problem_below_average_yield.addVars(3, lb = 0.0, name = \"x\")\n",
    "y = farmers_problem_below_average_yield.addVars(2, lb = 0.0, name = \"y\")\n",
    "w = farmers_problem_below_average_yield.addVars(4, lb = 0.0, name = \"w\")\n",
    "\n",
    "farmers_problem_below_average_yield.setObjective(150 * x[0] + 230 * x[1] + 260 * x[2] + 238 * y[0] - 170 * w[0] + 210 * y[1] - 150 * w[1] - 36 * w[2] - 10 * w[3], GRB.MINIMIZE)\n",
    "\n",
    "farmers_problem_below_average_yield.addConstr(x[0] + x[1] + x[2] <= 500) # no more than 500 acres devoted to our 3 crops\n",
    "farmers_problem_below_average_yield.addConstr(2 * x[0] + y[0] - w[0] >= 200) # we need at least 200 tons of wheat to feed our cattle\n",
    "farmers_problem_below_average_yield.addConstr(2.4 * x[1] + y[1] - w[1] >= 240) # we need at least 240 tons of corn to feed our cattle\n",
    "farmers_problem_below_average_yield.addConstr(w[2] + w[3] <= 16 * x[2]) # the amount of sugar beets we sell (in tons) is bounded above by the amound of sugar beets we produce\n",
    "farmers_problem_below_average_yield.addConstr(w[2] <= 6000) # maximum number of sugar beets sold at the favorable price\n",
    "\n",
    "farmers_problem_below_average_yield.update()\n",
    "farmers_problem_below_average_yield.write('farmers_problem_below_average_yield.lp')\n",
    "farmers_problem_below_average_yield.optimize()\n",
    "\n",
    "print(f\"The optimal objective value for this problem is {farmers_problem_below_average_yield.objVal}.\") # optimal objective value\n",
    "\n",
    "print(\"The optimal values of the decision variables are as follows:\")\n",
    "for var in farmers_problem_below_average_yield.getVars():\n",
    "    print(f\"{var.varName} = {var.x}\")"
   ]
  },
  {
   "cell_type": "code",
   "execution_count": null,
   "metadata": {},
   "outputs": [],
   "source": [
    "# choosing as though it's going to be a year with average yield\n",
    "farmers_problem_below_average_yield.addConstr(x[0] == 120)\n",
    "farmers_problem_below_average_yield.addConstr(x[1] == 80)\n",
    "farmers_problem_below_average_yield.addConstr(x[2] == 300)\n",
    "\n",
    "farmers_problem_below_average_yield.update()\n",
    "farmers_problem_below_average_yield.write('farmers_problem_below_average_yield.lp')\n",
    "farmers_problem_below_average_yield.optimize()\n",
    "\n",
    "print(f\"The optimal objective value for this problem is {farmers_problem_below_average_yield.objVal}.\") # optimal objective value\n",
    "\n",
    "print(\"The optimal values of the decision variables are as follows:\")\n",
    "for var in farmers_problem_below_average_yield.getVars():\n",
    "    print(f\"{var.varName} = {var.x}\")"
   ]
  },
  {
   "cell_type": "code",
   "execution_count": null,
   "metadata": {},
   "outputs": [],
   "source": [
    "# choosing as though it's going to be a year with above average yield\n",
    "farmers_problem_below_average_yield.addConstr(x[0] == 183.33)\n",
    "farmers_problem_below_average_yield.addConstr(x[1] == 66.67)\n",
    "farmers_problem_below_average_yield.addConstr(x[2] == 250)\n",
    "\n",
    "farmers_problem_below_average_yield.update()\n",
    "farmers_problem_below_average_yield.write('farmers_problem_below_average_yield.lp')\n",
    "farmers_problem_below_average_yield.optimize()\n",
    "\n",
    "print(f\"The optimal objective value for this problem is {farmers_problem_below_average_yield.objVal}.\") # optimal objective value\n",
    "\n",
    "print(\"The optimal values of the decision variables are as follows:\")\n",
    "for var in farmers_problem_below_average_yield.getVars():\n",
    "    print(f\"{var.varName} = {var.x}\")"
   ]
  },
  {
   "cell_type": "code",
   "execution_count": null,
   "metadata": {},
   "outputs": [],
   "source": [
    "# choosing according to the stochastic solution\n",
    "farmers_problem_below_average_yield.addConstr(x[0] == 166.67)\n",
    "farmers_problem_below_average_yield.addConstr(x[1] == 83.33)\n",
    "farmers_problem_below_average_yield.addConstr(x[2] == 250)\n",
    "\n",
    "farmers_problem_below_average_yield.update()\n",
    "farmers_problem_below_average_yield.write('farmers_problem_below_average_yield.lp')\n",
    "farmers_problem_below_average_yield.optimize()\n",
    "\n",
    "print(f\"The optimal objective value for this problem is {farmers_problem_below_average_yield.objVal}.\") # optimal objective value\n",
    "\n",
    "print(\"The optimal values of the decision variables are as follows:\")\n",
    "for var in farmers_problem_below_average_yield.getVars():\n",
    "    print(f\"{var.varName} = {var.x}\")"
   ]
  },
  {
   "cell_type": "markdown",
   "metadata": {},
   "source": [
    "# Part 2: Solving the Stochastic Problem (assuming that each yield scenario has an equal 1/3 probability of occurring)"
   ]
  },
  {
   "cell_type": "code",
   "execution_count": null,
   "metadata": {},
   "outputs": [],
   "source": [
    "# This is the extensive form of a given instance of the modified farmer's problem\n",
    "import numpy as np\n",
    "import gurobipy as gp\n",
    "from gurobipy import GRB\n",
    "\n",
    "# problem data\n",
    "c = [150, 230, 260] # first stage objective coefficients\n",
    "A = np.array([[1, 1, 1]]) # first stage constraint matrix\n",
    "b = 500 # first stage right hand side\n",
    "q = [238, 210, -170, -150, -36, -10] \n",
    "q = [1/3 * element for element in q] # second stage objective coefficients\n",
    "T1 = np.array([[3, 0, 0], \n",
    "              [0, 3.6, 0],\n",
    "              [0, 0, 24],\n",
    "              [0, 0, 0],\n",
    "              [0, 0, 0]]) # technology matrix for the first scenario\n",
    "T2 = np.array([[2.5, 0, 0], \n",
    "              [0, 3, 0],\n",
    "              [0, 0, 20],\n",
    "              [0, 0, 0],\n",
    "              [0, 0, 0]]) # technology matrix for the second scenario\n",
    "T3 = np.array([[2, 0, 0], \n",
    "              [0, 2.4, 0],\n",
    "              [0, 0, 16],\n",
    "              [0, 0, 0],\n",
    "              [0, 0, 0]]) # technology matrix for the third scenario\n",
    "W = np.array([[1, 0, -1, 0, 0, 0], \n",
    "              [0, 1, 0, -1, 0, 0],\n",
    "              [0, 0, 0, 0, -1, -1],\n",
    "              [0, 0, 0, 0, -1, 0],\n",
    "              [0, -1, 0, 0, 0, 0]]) # recourse matrix; the columns correspond to the second-stage variables in this order: y_1, y_2, w_1, w_2, w_3, and w_4\n",
    "h = np.array([200, 240, 0, -6000, -40]) # second stage right-hand side\n",
    "p = [1/3, 1/3, 1/3] # probability vector for the three scenarios\n",
    "\n",
    "environment = gp.Env(empty = True)\n",
    "environment.setParam(\"OutputFlag\", 0)\n",
    "environment.start()\n",
    "\n",
    "extended_form = gp.Model('modified_farmers_problem_extensive_form', env = environment) # create model\n",
    "x = extended_form.addMVar(3, obj =  c, lb = 0.0, vtype = GRB.CONTINUOUS, name = \"x\") # define x variables and set objective values\n",
    "y_1 = extended_form.addMVar(6, obj =  q, lb = 0.0, vtype = GRB.CONTINUOUS, name = \"y_1\")\n",
    "y_2 = extended_form.addMVar(6, obj =  q, lb = 0.0, vtype = GRB.CONTINUOUS, name = \"y_2\")\n",
    "y_3 = extended_form.addMVar(6, obj =  q, lb = 0.0, vtype = GRB.CONTINUOUS, name = \"y_3\")\n",
    "extended_form.modelSense = GRB.MINIMIZE # set objective function sense\n",
    "extended_form.addConstr(A @ x <= b) # the farmer has 500 acres of land\n",
    "extended_form.addConstr(W @ y_1 >= h - T1 @ x)\n",
    "extended_form.addConstr(W @ y_2 >= h - T2 @ x)\n",
    "extended_form.addConstr(W @ y_3 >= h - T3 @ x)\n",
    "extended_form.update() # let Gurobi know that the model has changed\n",
    "extended_form.write(\"modified_farmers_problem_extensive_form.lp\") # write out the lp in a lp-file\n",
    "extended_form.optimize() # optimize model"
   ]
  },
  {
   "cell_type": "code",
   "execution_count": null,
   "metadata": {},
   "outputs": [],
   "source": [
    "print(f\"The optimal objective value for this problem is {extended_form.objVal}.\") # optimal objective value\n",
    "\n",
    "print(\"The optimal values of the decision variables are as follows:\")\n",
    "for var in extended_form.getVars():\n",
    "    print(f\"{var.varName} = {var.x}\")"
   ]
  }
 ],
 "metadata": {
  "kernelspec": {
   "display_name": "Python 3.10.7 64-bit (microsoft store)",
   "language": "python",
   "name": "python3"
  },
  "language_info": {
   "codemirror_mode": {
    "name": "ipython",
    "version": 3
   },
   "file_extension": ".py",
   "mimetype": "text/x-python",
   "name": "python",
   "nbconvert_exporter": "python",
   "pygments_lexer": "ipython3",
   "version": "3.10.7"
  },
  "orig_nbformat": 4,
  "vscode": {
   "interpreter": {
    "hash": "52c8b4c2ef8eee1eed6e32ad1192934a50f44bc4c61372d017ecac2c0abed5b2"
   }
  }
 },
 "nbformat": 4,
 "nbformat_minor": 2
}
