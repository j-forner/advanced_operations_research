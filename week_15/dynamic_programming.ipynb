{
 "cells": [
  {
   "cell_type": "code",
   "execution_count": 9,
   "metadata": {},
   "outputs": [],
   "source": [
    "# this code is taken from https://www.interviewbit.com/blog/0-1-knapsack-problem/\n",
    "\n",
    "def binary_knapsack(W, N, value, weight) :\n",
    "    table = [[0 for _ in range(W + 1)] for _ in range(N + 1)] # define table\n",
    "\n",
    "    for i in range(1, N + 1):\n",
    "        for j in range(1, W + 1):\n",
    "            if weight[i - 1] <= j: \n",
    "                table[i][j] = max(table[i - 1][j - weight[i - 1]] + value[i - 1], table[i - 1][j])\n",
    "            else:\n",
    "                table[i][j] = table[i - 1][j] # if the weight of current element is greater than the space left in the bag\n",
    "    return table[N][W]"
   ]
  },
  {
   "cell_type": "code",
   "execution_count": 10,
   "metadata": {},
   "outputs": [
    {
     "data": {
      "text/plain": [
       "50"
      ]
     },
     "execution_count": 10,
     "metadata": {},
     "output_type": "execute_result"
    }
   ],
   "source": [
    "W = 6 # capacity of knapsack\n",
    "N = 5 # number of items\n",
    "value = [10, 15, 10, 25, 30] # value of items\n",
    "weight = [1, 2, 2, 3, 4] # weight of items\n",
    "binary_knapsack(W, N, value, weight)"
   ]
  }
 ],
 "metadata": {
  "kernelspec": {
   "display_name": "Python 3.8.3 ('base')",
   "language": "python",
   "name": "python3"
  },
  "language_info": {
   "codemirror_mode": {
    "name": "ipython",
    "version": 3
   },
   "file_extension": ".py",
   "mimetype": "text/x-python",
   "name": "python",
   "nbconvert_exporter": "python",
   "pygments_lexer": "ipython3",
   "version": "3.8.3"
  },
  "orig_nbformat": 4,
  "vscode": {
   "interpreter": {
    "hash": "59dcf0e4980a5f82ba87556c3b75ed6abea52d4b8194172192e551d29fa7b344"
   }
  }
 },
 "nbformat": 4,
 "nbformat_minor": 2
}
