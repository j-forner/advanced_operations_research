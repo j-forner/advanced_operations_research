{
 "cells": [
  {
   "cell_type": "markdown",
   "metadata": {},
   "source": [
    "#### What should the farmer do?"
   ]
  },
  {
   "cell_type": "markdown",
   "metadata": {},
   "source": [
    "#### 0. Importing libraries"
   ]
  },
  {
   "cell_type": "code",
   "execution_count": 3,
   "metadata": {},
   "outputs": [
    {
     "name": "stdout",
     "output_type": "stream",
     "text": [
      "Requirement already satisfied: gurobipy in c:\\users\\jackson\\anaconda3\\lib\\site-packages (9.5.1)\n",
      "Note: you may need to restart the kernel to use updated packages.\n",
      "Requirement already satisfied: numpy in c:\\users\\jackson\\anaconda3\\lib\\site-packages (1.18.5)\n",
      "Note: you may need to restart the kernel to use updated packages.\n"
     ]
    }
   ],
   "source": [
    "%pip install gurobipy\n",
    "import gurobipy as gp\n",
    "from gurobipy import GRB\n",
    "%pip install numpy\n",
    "import numpy as np"
   ]
  },
  {
   "cell_type": "markdown",
   "metadata": {},
   "source": [
    "# Part 1: Scenario Problems"
   ]
  },
  {
   "cell_type": "markdown",
   "metadata": {},
   "source": [
    "### Case 1: Average Yields"
   ]
  },
  {
   "cell_type": "markdown",
   "metadata": {},
   "source": [
    "#### 1. Set up the model"
   ]
  },
  {
   "cell_type": "code",
   "execution_count": 3,
   "metadata": {},
   "outputs": [
    {
     "name": "stdout",
     "output_type": "stream",
     "text": [
      "Restricted license - for non-production use only - expires 2023-10-25\n"
     ]
    }
   ],
   "source": [
    "burrito_model = gp.Model()"
   ]
  },
  {
   "cell_type": "markdown",
   "metadata": {},
   "source": [
    "#### 2. Define sets and parameters"
   ]
  },
  {
   "cell_type": "code",
   "execution_count": 4,
   "metadata": {},
   "outputs": [],
   "source": [
    "I = [1, 2] # list of customers\n",
    "J = [1, 2, 3] # list of potential truck locations\n",
    "\n",
    "d = [50, 40] # demand\n",
    "c = np.array([[.1, 3, 5],\n",
    "              [5, 3, .1]]) # distance from each customer to each potential truck location\n",
    "f = 250 # setup cost per truck\n",
    "r = 10 # unit burrito revenue\n",
    "k = 5 # unit burrito ingredient cost"
   ]
  },
  {
   "cell_type": "markdown",
   "metadata": {},
   "source": [
    "#### 3. Set the variables and the objective function"
   ]
  },
  {
   "cell_type": "code",
   "execution_count": 5,
   "metadata": {},
   "outputs": [],
   "source": [
    "x = burrito_model.addVars(J, vtype = GRB.BINARY, name = \"x\")\n",
    "y = burrito_model.addVars(I, J, vtype = GRB.BINARY, name = \"y\")"
   ]
  },
  {
   "cell_type": "code",
   "execution_count": 6,
   "metadata": {},
   "outputs": [
    {
     "data": {
      "text/plain": [
       "{(1, 1): <gurobi.Var *Awaiting Model Update*>,\n",
       " (1, 2): <gurobi.Var *Awaiting Model Update*>,\n",
       " (1, 3): <gurobi.Var *Awaiting Model Update*>,\n",
       " (2, 1): <gurobi.Var *Awaiting Model Update*>,\n",
       " (2, 2): <gurobi.Var *Awaiting Model Update*>,\n",
       " (2, 3): <gurobi.Var *Awaiting Model Update*>}"
      ]
     },
     "execution_count": 6,
     "metadata": {},
     "output_type": "execute_result"
    }
   ],
   "source": [
    "y"
   ]
  },
  {
   "cell_type": "code",
   "execution_count": 7,
   "metadata": {},
   "outputs": [],
   "source": [
    "burrito_model.setObjective(gp.quicksum(gp.quicksum((r - k) * 1/(c[i - 1, j - 1]) * d[i - 1] * y[i, j] for j in J) for i in I) - gp.quicksum(f * x[j] for j in J))"
   ]
  },
  {
   "cell_type": "markdown",
   "metadata": {},
   "source": [
    "#### 4. Set the \"sense\" of the optimization problem"
   ]
  },
  {
   "cell_type": "code",
   "execution_count": 8,
   "metadata": {},
   "outputs": [],
   "source": [
    "burrito_model.ModelSense = GRB.MAXIMIZE"
   ]
  },
  {
   "cell_type": "markdown",
   "metadata": {},
   "source": [
    "#### 5. Add the constraints"
   ]
  },
  {
   "cell_type": "code",
   "execution_count": 9,
   "metadata": {},
   "outputs": [],
   "source": [
    "for i in I:\n",
    "    burrito_model.addConstr(gp.quicksum(y[i, j] for j in J) <= 1)\n",
    "\n",
    "for i in I:\n",
    "    for j in J:\n",
    "        burrito_model.addConstr(y[i, j] <= x[j])"
   ]
  },
  {
   "cell_type": "markdown",
   "metadata": {},
   "source": [
    "#### 6. Update and optimize the model"
   ]
  },
  {
   "cell_type": "code",
   "execution_count": 10,
   "metadata": {},
   "outputs": [
    {
     "name": "stdout",
     "output_type": "stream",
     "text": [
      "Gurobi Optimizer version 9.5.2 build v9.5.2rc0 (win64)\n",
      "Thread count: 8 physical cores, 16 logical processors, using up to 16 threads\n",
      "Optimize a model with 8 rows, 9 columns and 18 nonzeros\n",
      "Model fingerprint: 0xd4cc80f6\n",
      "Variable types: 0 continuous, 9 integer (9 binary)\n",
      "Coefficient statistics:\n",
      "  Matrix range     [1e+00, 1e+00]\n",
      "  Objective range  [4e+01, 3e+03]\n",
      "  Bounds range     [1e+00, 1e+00]\n",
      "  RHS range        [1e+00, 1e+00]\n",
      "Found heuristic solution: objective -0.0000000\n",
      "Presolve removed 8 rows and 9 columns\n",
      "Presolve time: 0.00s\n",
      "Presolve: All rows and columns removed\n",
      "\n",
      "Explored 0 nodes (0 simplex iterations) in 0.00 seconds (0.00 work units)\n",
      "Thread count was 1 (of 16 available processors)\n",
      "\n",
      "Solution count 2: 4000 -0 \n",
      "\n",
      "Optimal solution found (tolerance 1.00e-04)\n",
      "Best objective 4.000000000000e+03, best bound 4.000000000000e+03, gap 0.0000%\n"
     ]
    }
   ],
   "source": [
    "burrito_model.update()\n",
    "burrito_model.write('burrito_truck_location.lp')\n",
    "burrito_model.optimize()"
   ]
  },
  {
   "cell_type": "markdown",
   "metadata": {},
   "source": [
    "#### 7. Print the results"
   ]
  },
  {
   "cell_type": "code",
   "execution_count": 11,
   "metadata": {},
   "outputs": [
    {
     "name": "stdout",
     "output_type": "stream",
     "text": [
      "The optimal objective value for this problem is {burrito_model.objVal}\n",
      "The optimal values of the decision variables are as follows:\n",
      "x[1] = 1.0\n",
      "x[2] = 0.0\n",
      "x[3] = 1.0\n",
      "y[1,1] = 1.0\n",
      "y[1,2] = 0.0\n",
      "y[1,3] = 0.0\n",
      "y[2,1] = 0.0\n",
      "y[2,2] = 0.0\n",
      "y[2,3] = 1.0\n"
     ]
    }
   ],
   "source": [
    "print(\"The optimal objective value for this problem is {burrito_model.objVal}\") # optimal objective value\n",
    "\n",
    "print(\"The optimal values of the decision variables are as follows:\")\n",
    "for var in burrito_model.getVars():\n",
    "    print(f\"{var.varName} = {var.x}\")"
   ]
  },
  {
   "cell_type": "markdown",
   "metadata": {},
   "source": [
    "### Case 2: Above Average Yields"
   ]
  },
  {
   "cell_type": "markdown",
   "metadata": {},
   "source": [
    "### Case 3: Below Average Yields"
   ]
  },
  {
   "cell_type": "markdown",
   "metadata": {},
   "source": [
    "# Part 2: Solving the Stochastic Problem (assuming that each yield scenario has an equal 1/3 probability of occurring)"
   ]
  },
  {
   "cell_type": "code",
   "execution_count": 5,
   "metadata": {},
   "outputs": [
    {
     "name": "stdout",
     "output_type": "stream",
     "text": [
      "x[0] 166.66666666666663\n",
      "x[1] 83.33333333333334\n",
      "x[2] 250.0\n",
      "y_1[0] 0.0\n",
      "y_1[1] 0.0\n",
      "y_1[2] 299.9999999999999\n",
      "y_1[3] 60.0\n",
      "y_1[4] 6000.0\n",
      "y_1[5] 0.0\n",
      "y_2[0] 0.0\n",
      "y_2[1] 0.0\n",
      "y_2[2] 216.66666666666657\n",
      "y_2[3] 10.0\n",
      "y_2[4] 5000.0\n",
      "y_2[5] 0.0\n",
      "y_3[0] 0.0\n",
      "y_3[1] 40.0\n",
      "y_3[2] 133.33333333333326\n",
      "y_3[3] 0.0\n",
      "y_3[4] 4000.0\n",
      "y_3[5] 0.0\n",
      "Optimal primal objective value :  -108366.66666666667\n"
     ]
    }
   ],
   "source": [
    "# problem data\n",
    "c = [150, 230, 260] # first stage objective coefficients\n",
    "A = np.array([[1, 1, 1]]) # first stage constraint matrix\n",
    "b = 500 # first stage right hand side\n",
    "q = [238, 210, -170, -150, -36, -10] \n",
    "q = [1/3 * element for element in q] # second stage objective coefficients\n",
    "T1 = np.array([[3, 0, 0], \n",
    "              [0, 3.6, 0],\n",
    "              [0, 0, 24],\n",
    "              [0, 0, 0],\n",
    "              [0, 0, 0]]) # technology matrix for the first scenario\n",
    "T2 = np.array([[2.5, 0, 0], \n",
    "              [0, 3, 0],\n",
    "              [0, 0, 20],\n",
    "              [0, 0, 0],\n",
    "              [0, 0, 0]]) # technology matrix for the second scenario\n",
    "T3 = np.array([[2, 0, 0], \n",
    "              [0, 2.4, 0],\n",
    "              [0, 0, 16],\n",
    "              [0, 0, 0],\n",
    "              [0, 0, 0]]) # technology matrix for the third scenario\n",
    "W = np.array([[1, 0, -1, 0, 0, 0], \n",
    "              [0, 1, 0, -1, 0, 0],\n",
    "              [0, 0, 0, 0, -1, -1],\n",
    "              [0, 0, 0, 0, -1, 0],\n",
    "              [0, -1, 0, 0, 0, 0]]) # recourse matrix; the columns correspond to the second-stage variables in this order: y_1, y_2, w_1, w_2, w_3, and w_4\n",
    "h = np.array([200, 240, 0, -6000, -40]) # second stage right-hand side\n",
    "p = [1/3, 1/3, 1/3] # probability vector for the three scenarios\n",
    "\n",
    "\n",
    "# suppress Gurobi output\n",
    "environment = gp.Env(empty = True)\n",
    "environment.setParam(\"OutputFlag\", 0)\n",
    "environment.start()\n",
    "\n",
    "\n",
    "m = gp.Model('modified_farmers_problem_extensive_form', env = environment) # create model\n",
    "x = m.addMVar(3, obj =  c, lb = 0.0, vtype = GRB.CONTINUOUS, name = \"x\") # define x variables and set objective values\n",
    "y_1 = m.addMVar(6, obj =  q, lb = 0.0, vtype = GRB.CONTINUOUS, name = \"y_1\")\n",
    "y_2 = m.addMVar(6, obj =  q, lb = 0.0, vtype = GRB.CONTINUOUS, name = \"y_2\")\n",
    "y_3 = m.addMVar(6, obj =  q, lb = 0.0, vtype = GRB.CONTINUOUS, name = \"y_3\")\n",
    "m.modelSense = GRB.MINIMIZE # set objective function sense\n",
    "m.addConstr(A @ x <= b) # the farmer has 500 acres of land\n",
    "m.addConstr(W @ y_1 >= h - T1 @ x)\n",
    "m.addConstr(W @ y_2 >= h - T2 @ x)\n",
    "m.addConstr(W @ y_3 >= h - T3 @ x)\n",
    "m.update() # let Gurobi know that the model has changed\n",
    "m.write(\"modified_farmers_problem_extensive_form.lp\") # write out the lp in a lp-file\n",
    "m.optimize() # optimize model\n",
    "\n",
    "for v in m.getVars():\n",
    "        if v.x >= 0:\n",
    "            print(v.varName, v.x)\n",
    "\n",
    "print('Optimal primal objective value : ', m.objVal) # display optimal value"
   ]
  }
 ],
 "metadata": {
  "kernelspec": {
   "display_name": "Python 3.8.3 ('base')",
   "language": "python",
   "name": "python3"
  },
  "language_info": {
   "codemirror_mode": {
    "name": "ipython",
    "version": 3
   },
   "file_extension": ".py",
   "mimetype": "text/x-python",
   "name": "python",
   "nbconvert_exporter": "python",
   "pygments_lexer": "ipython3",
   "version": "3.8.3"
  },
  "orig_nbformat": 4,
  "vscode": {
   "interpreter": {
    "hash": "59dcf0e4980a5f82ba87556c3b75ed6abea52d4b8194172192e551d29fa7b344"
   }
  }
 },
 "nbformat": 4,
 "nbformat_minor": 2
}
