{
 "cells": [
  {
   "cell_type": "markdown",
   "metadata": {},
   "source": [
    "#### How to visit the pubs"
   ]
  },
  {
   "cell_type": "markdown",
   "metadata": {},
   "source": [
    "#### 0. Importing libraries"
   ]
  },
  {
   "cell_type": "code",
   "execution_count": 33,
   "metadata": {},
   "outputs": [
    {
     "name": "stdout",
     "output_type": "stream",
     "text": [
      "Requirement already satisfied: gurobipy in c:\\users\\48919629\\appdata\\local\\packages\\pythonsoftwarefoundation.python.3.10_qbz5n2kfra8p0\\localcache\\local-packages\\python310\\site-packages (9.5.2)\n",
      "Note: you may need to restart the kernel to use updated packages.\n",
      "Requirement already satisfied: numpy in c:\\users\\48919629\\appdata\\local\\packages\\pythonsoftwarefoundation.python.3.10_qbz5n2kfra8p0\\localcache\\local-packages\\python310\\site-packages (1.23.3)\n",
      "Note: you may need to restart the kernel to use updated packages.\n"
     ]
    }
   ],
   "source": [
    "%pip install gurobipy\n",
    "import gurobipy as gp\n",
    "from gurobipy import GRB\n",
    "%pip install numpy\n",
    "import numpy as np"
   ]
  },
  {
   "cell_type": "markdown",
   "metadata": {},
   "source": [
    "#### 1. Set up the model"
   ]
  },
  {
   "cell_type": "code",
   "execution_count": 34,
   "metadata": {},
   "outputs": [],
   "source": [
    "pubs = gp.Model()"
   ]
  },
  {
   "cell_type": "markdown",
   "metadata": {},
   "source": [
    "#### 2. Define parameters\n"
   ]
  },
  {
   "cell_type": "code",
   "execution_count": 35,
   "metadata": {},
   "outputs": [],
   "source": [
    "n = 6 # number of pubs\n",
    "c = np.array([[np.Inf, 2, 3, 1, 4, 2],\n",
    "              [2, np.Inf, 2, 3, 5, 4],\n",
    "              [3, 2, np.Inf, 2, 4, 2],\n",
    "              [1, 3, 2, np.Inf, 2, 2],\n",
    "              [4, 5, 4, 2, np.Inf, 3],\n",
    "              [2, 4, 2, 2, 3, np.Inf]]) # distance from each city to every other city"
   ]
  },
  {
   "cell_type": "markdown",
   "metadata": {},
   "source": [
    "#### 3. Set the variables and the objective function"
   ]
  },
  {
   "cell_type": "code",
   "execution_count": 36,
   "metadata": {},
   "outputs": [],
   "source": [
    "x = pubs.addVars(n, n, obj = c, vtype = GRB.BINARY, name = \"x\")\n",
    "t = pubs.addVars(n, vtype = GRB.INTEGER, name = \"t\")"
   ]
  },
  {
   "cell_type": "markdown",
   "metadata": {},
   "source": [
    "#### 4. Set the \"sense\" of the optimization problem"
   ]
  },
  {
   "cell_type": "code",
   "execution_count": 37,
   "metadata": {},
   "outputs": [],
   "source": [
    "pubs.ModelSense = GRB.MINIMIZE"
   ]
  },
  {
   "cell_type": "markdown",
   "metadata": {},
   "source": [
    "#### 5. Add the constraints"
   ]
  },
  {
   "cell_type": "code",
   "execution_count": 38,
   "metadata": {},
   "outputs": [
    {
     "data": {
      "text/plain": [
       "<gurobi.Constr *Awaiting Model Update*>"
      ]
     },
     "execution_count": 38,
     "metadata": {},
     "output_type": "execute_result"
    }
   ],
   "source": [
    "pubs.addConstrs(gp.quicksum(x[i, j] for j in range(n)) == 1 for i in range(n)) # from each pub, we must go to exactly one other pub\n",
    "pubs.addConstrs(gp.quicksum(x[i, j] for i in range(n)) == 1 for j in range(n)) # we must enter each pub from exactly one other pub\n",
    "pubs.addConstrs(t[j] >= t[i] + 1 - n * (1 - x[i, j]) for i in range(n) for j in range(1, n) if i != j) # subtour elimination constraints\n",
    "pubs.addConstr(t[0] == 0) # we start at pub 0"
   ]
  },
  {
   "cell_type": "markdown",
   "metadata": {},
   "source": [
    "#### 6. Update and optimize the model"
   ]
  },
  {
   "cell_type": "code",
   "execution_count": 39,
   "metadata": {},
   "outputs": [
    {
     "name": "stdout",
     "output_type": "stream",
     "text": [
      "Gurobi Optimizer version 9.5.2 build v9.5.2rc0 (win64)\n",
      "Thread count: 6 physical cores, 6 logical processors, using up to 6 threads\n",
      "Optimize a model with 38 rows, 42 columns and 148 nonzeros\n",
      "Model fingerprint: 0xd2746803\n",
      "Variable types: 0 continuous, 42 integer (36 binary)\n",
      "Coefficient statistics:\n",
      "  Matrix range     [1e+00, 6e+00]\n",
      "  Objective range  [1e+00, 1e+100]\n",
      "  Bounds range     [1e+00, 1e+00]\n",
      "  RHS range        [1e+00, 5e+00]\n",
      "Warning: Model contains large objective coefficients\n",
      "         Consider reformulating model or setting NumericFocus parameter\n",
      "         to avoid numerical issues.\n",
      "Found heuristic solution: objective 17.0000000\n",
      "Presolve removed 1 rows and 7 columns\n",
      "Presolve time: 0.01s\n",
      "Presolved: 37 rows, 35 columns, 130 nonzeros\n",
      "Variable types: 0 continuous, 35 integer (30 binary)\n",
      "\n",
      "Root relaxation: objective 1.200000e+01, 20 iterations, 0.00 seconds (0.00 work units)\n",
      "\n",
      "    Nodes    |    Current Node    |     Objective Bounds      |     Work\n",
      " Expl Unexpl |  Obj  Depth IntInf | Incumbent    BestBd   Gap | It/Node Time\n",
      "\n",
      "H    0     0                      12.0000000    0.00000   100%     -    0s\n",
      "     0     0          -    0        12.00000   12.00000  0.00%     -    0s\n",
      "\n",
      "Explored 1 nodes (29 simplex iterations) in 0.03 seconds (0.00 work units)\n",
      "Thread count was 6 (of 6 available processors)\n",
      "\n",
      "Solution count 2: 12 17 \n",
      "\n",
      "Optimal solution found (tolerance 1.00e-04)\n",
      "Best objective 1.200000000000e+01, best bound 1.200000000000e+01, gap 0.0000%\n"
     ]
    }
   ],
   "source": [
    "pubs.update()\n",
    "pubs.write('pubs.lp')\n",
    "pubs.optimize()"
   ]
  },
  {
   "cell_type": "markdown",
   "metadata": {},
   "source": [
    "#### 7. Print the results"
   ]
  },
  {
   "cell_type": "code",
   "execution_count": 40,
   "metadata": {},
   "outputs": [
    {
     "name": "stdout",
     "output_type": "stream",
     "text": [
      "The optimal objective value for this problem is 12.0\n",
      "The optimal values of the decision variables are as follows:\n",
      "x[0,0] = 0.0\n",
      "x[0,1] = 1.0\n",
      "x[0,2] = 0.0\n",
      "x[0,3] = 0.0\n",
      "x[0,4] = 0.0\n",
      "x[0,5] = 0.0\n",
      "x[1,0] = 0.0\n",
      "x[1,1] = 0.0\n",
      "x[1,2] = 1.0\n",
      "x[1,3] = 0.0\n",
      "x[1,4] = 0.0\n",
      "x[1,5] = 0.0\n",
      "x[2,0] = 0.0\n",
      "x[2,1] = 0.0\n",
      "x[2,2] = 0.0\n",
      "x[2,3] = 0.0\n",
      "x[2,4] = 0.0\n",
      "x[2,5] = 1.0\n",
      "x[3,0] = 1.0\n",
      "x[3,1] = 0.0\n",
      "x[3,2] = 0.0\n",
      "x[3,3] = 0.0\n",
      "x[3,4] = 0.0\n",
      "x[3,5] = 0.0\n",
      "x[4,0] = 0.0\n",
      "x[4,1] = 0.0\n",
      "x[4,2] = 0.0\n",
      "x[4,3] = 1.0\n",
      "x[4,4] = 0.0\n",
      "x[4,5] = 0.0\n",
      "x[5,0] = 0.0\n",
      "x[5,1] = 0.0\n",
      "x[5,2] = 0.0\n",
      "x[5,3] = 0.0\n",
      "x[5,4] = 1.0\n",
      "x[5,5] = 0.0\n",
      "t[0] = 0.0\n",
      "t[1] = 1.0\n",
      "t[2] = 2.0\n",
      "t[3] = 5.0\n",
      "t[4] = 4.0\n",
      "t[5] = 3.0\n"
     ]
    }
   ],
   "source": [
    "print(f\"The optimal objective value for this problem is {pubs.objVal}\") # optimal objective value\n",
    "\n",
    "print(\"The optimal values of the decision variables are as follows:\")\n",
    "for var in pubs.getVars():\n",
    "    print(f\"{var.varName} = {var.x}\")"
   ]
  }
 ],
 "metadata": {
  "kernelspec": {
   "display_name": "Python 3.10.6 64-bit (windows store)",
   "language": "python",
   "name": "python3"
  },
  "language_info": {
   "codemirror_mode": {
    "name": "ipython",
    "version": 3
   },
   "file_extension": ".py",
   "mimetype": "text/x-python",
   "name": "python",
   "nbconvert_exporter": "python",
   "pygments_lexer": "ipython3",
   "version": "3.10.6"
  },
  "orig_nbformat": 4,
  "vscode": {
   "interpreter": {
    "hash": "e66f44aa3b4d8bc1cfb20c33da445c070c54f6eb86b7bc36924372fdce86f151"
   }
  }
 },
 "nbformat": 4,
 "nbformat_minor": 2
}
