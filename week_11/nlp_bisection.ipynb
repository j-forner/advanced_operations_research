{
 "cells": [
  {
   "cell_type": "markdown",
   "metadata": {},
   "source": [
    "## Nonlinear Programming - Bisection method"
   ]
  },
  {
   "cell_type": "markdown",
   "metadata": {},
   "source": [
    "### Modeling the problem using python"
   ]
  },
  {
   "cell_type": "markdown",
   "metadata": {},
   "source": [
    "#### 0. Importing libraries"
   ]
  },
  {
   "cell_type": "code",
   "execution_count": 2,
   "metadata": {},
   "outputs": [
    {
     "name": "stdout",
     "output_type": "stream",
     "text": [
      "Requirement already satisfied: prettytable in c:\\users\\jackson\\anaconda3\\lib\\site-packages (3.5.0)\n",
      "Requirement already satisfied: wcwidth in c:\\users\\jackson\\anaconda3\\lib\\site-packages (from prettytable) (0.2.5)\n",
      "Note: you may need to restart the kernel to use updated packages.\n"
     ]
    }
   ],
   "source": [
    "%pip install prettytable\n",
    "from prettytable import PrettyTable"
   ]
  },
  {
   "cell_type": "markdown",
   "metadata": {},
   "source": [
    "#### 1. Function we want to maximize, along with some plots"
   ]
  },
  {
   "cell_type": "code",
   "execution_count": 3,
   "metadata": {},
   "outputs": [],
   "source": [
    "def f(x):\n",
    "    return 48 * x ** 5 + 42 * x ** 3 + 3.5 * x - 16 * x ** 6 - 61 * x ** 4 - 16.5 * x ** 2\n",
    "\n",
    "def first_der_f(x):\n",
    "    return 240 * x ** 4 + 126 * x ** 2 + 3.5 - 96 * x ** 5 - 244 * x ** 3 - 33 * x"
   ]
  },
  {
   "cell_type": "markdown",
   "metadata": {},
   "source": [
    "#### 2. Bisection Method"
   ]
  },
  {
   "cell_type": "code",
   "execution_count": 4,
   "metadata": {},
   "outputs": [],
   "source": [
    "def bisection(x_lower, x_upper, eps):\n",
    "\n",
    "    # this function is specific to the function f we defined above\n",
    "\n",
    "    ### for formatting output ###\n",
    "    table = PrettyTable(['iteration', 'first_der_f', 'x_lower', 'x_upper', 'x', 'f(x)'])\n",
    "\n",
    "    ### algorithm ###\n",
    "    x = 0.5 * x_lower + 0.5 * x_upper\n",
    "    i = 0\n",
    "\n",
    "    table.add_row([i, 'NA', x_lower, x_upper, x, f(x)])\n",
    "\n",
    "    while x_upper - x_lower > 2 * eps:\n",
    "        i += 1\n",
    "\n",
    "        if first_der_f(x) >= 0:\n",
    "            x_lower = x\n",
    "        elif first_der_f(x) <= 0:\n",
    "            x_upper = x\n",
    "\n",
    "        x = 0.5 * x_lower + 0.5 * x_upper\n",
    "        table.add_row([i, first_der_f(x), x_lower, x_upper, x, f(x)])\n",
    "\n",
    "    print(table)"
   ]
  },
  {
   "cell_type": "markdown",
   "metadata": {},
   "source": [
    "#### 3. Output"
   ]
  },
  {
   "cell_type": "code",
   "execution_count": 5,
   "metadata": {},
   "outputs": [
    {
     "name": "stdout",
     "output_type": "stream",
     "text": [
      "+-----------+------------------------+---------+---------+----------+--------------------+\n",
      "| iteration |      first_der_f       | x_lower | x_upper |    x     |        f(x)        |\n",
      "+-----------+------------------------+---------+---------+----------+--------------------+\n",
      "|     0     |           NA           |    -1   |    4    |   1.5    |      -16.6875      |\n",
      "|     1     |        0.15625         |    -1   |   1.5   |   0.25   |     0.3046875      |\n",
      "|     2     |     -0.9228515625      |   0.25  |   1.5   |  0.875   |  0.24822998046875  |\n",
      "|     3     |   -0.001068115234375   |   0.25  |  0.875  |  0.5625  | 0.3124837875366211 |\n",
      "|     4     |  0.003991127014160156  |   0.25  |  0.5625 | 0.40625  | 0.3124118894338608 |\n",
      "|     5     | 1.5348196029663086e-05 | 0.40625 |  0.5625 | 0.484375 | 0.3124999401625246 |\n",
      "+-----------+------------------------+---------+---------+----------+--------------------+\n"
     ]
    }
   ],
   "source": [
    "x_lower = -1\n",
    "x_upper = 4\n",
    "eps = 0.08\n",
    "\n",
    "bisection(x_lower, x_upper, eps)"
   ]
  }
 ],
 "metadata": {
  "kernelspec": {
   "display_name": "Python 3.8.3 ('base')",
   "language": "python",
   "name": "python3"
  },
  "language_info": {
   "codemirror_mode": {
    "name": "ipython",
    "version": 3
   },
   "file_extension": ".py",
   "mimetype": "text/x-python",
   "name": "python",
   "nbconvert_exporter": "python",
   "pygments_lexer": "ipython3",
   "version": "3.8.3"
  },
  "orig_nbformat": 4,
  "vscode": {
   "interpreter": {
    "hash": "59dcf0e4980a5f82ba87556c3b75ed6abea52d4b8194172192e551d29fa7b344"
   }
  }
 },
 "nbformat": 4,
 "nbformat_minor": 2
}
