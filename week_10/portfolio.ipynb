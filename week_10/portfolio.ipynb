{
 "cells": [
  {
   "cell_type": "markdown",
   "metadata": {},
   "source": [
    "### Optimizing a Portfolio"
   ]
  },
  {
   "cell_type": "markdown",
   "metadata": {},
   "source": [
    "#### 0. Importing libraries"
   ]
  },
  {
   "cell_type": "code",
   "execution_count": 1,
   "metadata": {},
   "outputs": [
    {
     "name": "stdout",
     "output_type": "stream",
     "text": [
      "Requirement already satisfied: gurobipy in c:\\users\\48919629\\appdata\\local\\packages\\pythonsoftwarefoundation.python.3.10_qbz5n2kfra8p0\\localcache\\local-packages\\python310\\site-packages (9.5.2)\n",
      "Note: you may need to restart the kernel to use updated packages.\n"
     ]
    },
    {
     "name": "stderr",
     "output_type": "stream",
     "text": [
      "\n",
      "[notice] A new release of pip available: 22.2.2 -> 22.3\n",
      "[notice] To update, run: python.exe -m pip install --upgrade pip\n",
      "\n",
      "[notice] A new release of pip available: 22.2.2 -> 22.3\n",
      "[notice] To update, run: python.exe -m pip install --upgrade pip\n"
     ]
    },
    {
     "name": "stdout",
     "output_type": "stream",
     "text": [
      "Requirement already satisfied: numpy in c:\\users\\48919629\\appdata\\local\\packages\\pythonsoftwarefoundation.python.3.10_qbz5n2kfra8p0\\localcache\\local-packages\\python310\\site-packages (1.23.3)\n",
      "Note: you may need to restart the kernel to use updated packages.\n"
     ]
    }
   ],
   "source": [
    "%pip install gurobipy\n",
    "import gurobipy as gp\n",
    "from gurobipy import GRB\n",
    "%pip install numpy\n",
    "import numpy as np"
   ]
  },
  {
   "cell_type": "markdown",
   "metadata": {},
   "source": [
    "#### 1. Set up the model and read in a file"
   ]
  },
  {
   "cell_type": "code",
   "execution_count": 2,
   "metadata": {},
   "outputs": [
    {
     "name": "stdout",
     "output_type": "stream",
     "text": [
      "Restricted license - for non-production use only - expires 2023-10-25\n",
      "Read MPS format model from file n20m200k15s3.mps\n",
      "Reading time = 0.00 seconds\n",
      "n20m200k15s3.sav: 202 rows, 220 columns, 4420 nonzeros\n"
     ]
    }
   ],
   "source": [
    "portfolio = gp.read(\"n20m200k15s3.mps\") # an instance of the portfolio optimization problem (https://www2.isye.gatech.edu/~sahmed/siplib/probport/probport.html)"
   ]
  },
  {
   "cell_type": "markdown",
   "metadata": {},
   "source": [
    "#### 2. Update and optimize the model"
   ]
  },
  {
   "cell_type": "code",
   "execution_count": 3,
   "metadata": {},
   "outputs": [
    {
     "name": "stdout",
     "output_type": "stream",
     "text": [
      "Gurobi Optimizer version 9.5.2 build v9.5.2rc0 (win64)\n",
      "Thread count: 6 physical cores, 6 logical processors, using up to 6 threads\n",
      "Optimize a model with 202 rows, 220 columns and 4420 nonzeros\n",
      "Model fingerprint: 0xfcc9d1a6\n",
      "Coefficient statistics:\n",
      "  Matrix range     [8e-01, 1e+00]\n",
      "  Objective range  [2e+00, 1e+02]\n",
      "  Bounds range     [1e+00, 1e+00]\n",
      "  RHS range        [1e+00, 2e+01]\n",
      "Presolve time: 0.00s\n",
      "Presolved: 202 rows, 220 columns, 4420 nonzeros\n",
      "\n",
      "Iteration    Objective       Primal Inf.    Dual Inf.      Time\n",
      "       0    2.0000000e+00   1.343741e+01   0.000000e+00      0s\n",
      "      90    2.0000000e+00   0.000000e+00   0.000000e+00      0s\n",
      "\n",
      "Solved in 90 iterations and 0.01 seconds (0.00 work units)\n",
      "Optimal objective  2.000000000e+00\n"
     ]
    }
   ],
   "source": [
    "portfolio.update()\n",
    "portfolio.write('portfolio.lp')\n",
    "portfolio.optimize()"
   ]
  },
  {
   "cell_type": "markdown",
   "metadata": {},
   "source": [
    "#### 3. Print the results"
   ]
  },
  {
   "cell_type": "code",
   "execution_count": 4,
   "metadata": {},
   "outputs": [
    {
     "name": "stdout",
     "output_type": "stream",
     "text": [
      "The optimal objective value for this problem is {portfolio.objVal}\n",
      "The optimal values of the decision variables are as follows:\n",
      "x0 = 0.0\n",
      "x1 = 0.0\n",
      "x2 = 0.0\n",
      "x3 = 0.0\n",
      "x4 = 1.0\n",
      "x5 = 0.0\n",
      "x6 = 0.0\n",
      "x7 = 0.0\n",
      "x8 = 0.0\n",
      "x9 = 0.0\n",
      "x10 = 0.0\n",
      "x11 = 0.0\n",
      "x12 = 0.0\n",
      "x13 = 0.0\n",
      "x14 = 0.0\n",
      "x15 = 0.0\n",
      "x16 = 0.0\n",
      "x17 = 0.0\n",
      "x18 = 0.0\n",
      "x19 = 0.0\n",
      "z0 = 0.19852785615843097\n",
      "z1 = 0.14530766363763642\n",
      "z2 = 0.04130461744286369\n",
      "z3 = 0.0\n",
      "z4 = 0.0\n",
      "z5 = 0.03549919654191834\n",
      "z6 = 0.10781083838082829\n",
      "z7 = 0.0\n",
      "z8 = 0.21710829151032282\n",
      "z9 = 0.0\n",
      "z10 = 0.0\n",
      "z11 = 0.0\n",
      "z12 = 0.0985731259200046\n",
      "z13 = 0.0\n",
      "z14 = 0.12762531045485645\n",
      "z15 = 0.20307940460572188\n",
      "z16 = 0.0\n",
      "z17 = 0.0\n",
      "z18 = 0.0524213820145546\n",
      "z19 = 0.1826466509903019\n",
      "z20 = 0.03705949531021818\n",
      "z21 = 0.0\n",
      "z22 = 0.0\n",
      "z23 = 0.0824554010336728\n",
      "z24 = 0.04967203029346369\n",
      "z25 = 0.0\n",
      "z26 = 0.0\n",
      "z27 = 0.0\n",
      "z28 = 0.0\n",
      "z29 = 0.04088167361491827\n",
      "z30 = 0.0\n",
      "z31 = 0.0\n",
      "z32 = 0.0\n",
      "z33 = 0.0\n",
      "z34 = 0.0\n",
      "z35 = 0.005466115258800111\n",
      "z36 = 0.0\n",
      "z37 = 0.0161184514449365\n",
      "z38 = 0.06525114312006379\n",
      "z39 = 0.024277971824627258\n",
      "z40 = 0.1876474901060146\n",
      "z41 = 0.01424303337592732\n",
      "z42 = 0.0\n",
      "z43 = 0.22203066128052096\n",
      "z44 = 0.0\n",
      "z45 = 0.23656196443533367\n",
      "z46 = 0.0\n",
      "z47 = 0.22288033336570276\n",
      "z48 = 0.0\n",
      "z49 = 0.0\n",
      "z50 = 0.1683649439999664\n",
      "z51 = 0.25417157114398736\n",
      "z52 = 0.0\n",
      "z53 = 0.0\n",
      "z54 = 0.0\n",
      "z55 = 0.18832361628301464\n",
      "z56 = 0.0\n",
      "z57 = 0.25315550285052824\n",
      "z58 = 0.10872626207260916\n",
      "z59 = 0.0\n",
      "z60 = 0.17834961689500645\n",
      "z61 = 0.0\n",
      "z62 = 0.23945103200491186\n",
      "z63 = 0.0\n",
      "z64 = 0.05636286407455463\n",
      "z65 = 0.06287622202018182\n",
      "z66 = 0.1360894041982564\n",
      "z67 = 0.1483660218178892\n",
      "z68 = 0.0\n",
      "z69 = 0.0\n",
      "z70 = 0.0\n",
      "z71 = 0.0493007286197728\n",
      "z72 = 0.0\n",
      "z73 = 0.0\n",
      "z74 = 0.057415492070672744\n",
      "z75 = 0.0\n",
      "z76 = 0.20569030817767456\n",
      "z77 = 0.0\n",
      "z78 = 0.0\n",
      "z79 = 0.10165471888401283\n",
      "z80 = 0.0\n",
      "z81 = 0.2575153652578592\n",
      "z82 = 0.13443888719617011\n",
      "z83 = 0.036424731454727445\n",
      "z84 = 0.0756021632008638\n",
      "z85 = 0.21053489564325367\n",
      "z86 = 0.0\n",
      "z87 = 0.0\n",
      "z88 = 0.0\n",
      "z89 = 0.0\n",
      "z90 = 0.0\n",
      "z91 = 0.0\n",
      "z92 = 0.09392647246237551\n",
      "z93 = 0.0\n",
      "z94 = 0.0\n",
      "z95 = 0.002087994288145464\n",
      "z96 = 0.16162553878331734\n",
      "z97 = 0.0\n",
      "z98 = 0.0\n",
      "z99 = 0.0\n",
      "z100 = 0.0\n",
      "z101 = 0.0\n",
      "z102 = 0.06414098800583654\n",
      "z103 = 0.0\n",
      "z104 = 0.0\n",
      "z105 = 0.1324730224230073\n",
      "z106 = 0.23162550017745645\n",
      "z107 = 0.20474922438998822\n",
      "z108 = 0.0\n",
      "z109 = 0.2650844665159555\n",
      "z110 = 0.0\n",
      "z111 = 0.0\n",
      "z112 = 0.0\n",
      "z113 = 0.0\n",
      "z114 = 0.0\n",
      "z115 = 0.13287870103324004\n",
      "z116 = 0.04870093021202731\n",
      "z117 = 0.0\n",
      "z118 = 0.0\n",
      "z119 = 0.0\n",
      "z120 = 0.0\n",
      "z121 = 0.0\n",
      "z122 = 0.12436632077548283\n",
      "z123 = 0.19153226143680555\n",
      "z124 = 0.17836301337758284\n",
      "z125 = 0.07949307315390008\n",
      "z126 = 0.23903746138834825\n",
      "z127 = 0.08481127389876365\n",
      "z128 = 0.0\n",
      "z129 = 0.0\n",
      "z130 = 0.1799830180296501\n",
      "z131 = 0.0\n",
      "z132 = 0.0\n",
      "z133 = 0.06271760713901826\n",
      "z134 = 0.03569241860796374\n",
      "z135 = 0.0\n",
      "z136 = 0.0\n",
      "z137 = 0.0\n",
      "z138 = 0.09126003325747463\n",
      "z139 = 0.0\n",
      "z140 = 0.0\n",
      "z141 = 0.14458487957546642\n",
      "z142 = 0.24195785962299188\n",
      "z143 = 0.2716806092595855\n",
      "z144 = 0.0\n",
      "z145 = 0.22707887747409644\n",
      "z146 = 0.0\n",
      "z147 = 0.0051398693626274064\n",
      "z148 = 0.0\n",
      "z149 = 0.0\n",
      "z150 = 0.20292754545384553\n",
      "z151 = 0.0\n",
      "z152 = 0.0\n",
      "z153 = 0.0\n",
      "z154 = 0.19570157245140188\n",
      "z155 = 0.144996386698701\n",
      "z156 = 0.0\n",
      "z157 = 0.004704872167418307\n",
      "z158 = 0.14630068502050275\n",
      "z159 = 0.0\n",
      "z160 = 0.0\n",
      "z161 = 0.041542221135882\n",
      "z162 = 0.0\n",
      "z163 = 0.26317917528054274\n",
      "z164 = 0.0\n",
      "z165 = 0.0\n",
      "z166 = 0.0\n",
      "z167 = 0.0\n",
      "z168 = 0.13623938817446188\n",
      "z169 = 0.0\n",
      "z170 = 2.6900342409152952e-05\n",
      "z171 = 0.0\n",
      "z172 = 0.0\n",
      "z173 = 0.0\n",
      "z174 = 0.0\n",
      "z175 = 0.0\n",
      "z176 = 0.0\n",
      "z177 = 0.18409536391581371\n",
      "z178 = 0.0\n",
      "z179 = 0.0\n",
      "z180 = 0.21815068916079003\n",
      "z181 = 0.0\n",
      "z182 = 0.0\n",
      "z183 = 0.2669717542276801\n",
      "z184 = 0.0\n",
      "z185 = 0.0\n",
      "z186 = 0.06649078344080017\n",
      "z187 = 0.19545713361268008\n",
      "z188 = 0.16576244804838827\n",
      "z189 = 0.0\n",
      "z190 = 0.0839590095195273\n",
      "z191 = 0.0\n",
      "z192 = 0.2720319652633574\n",
      "z193 = 0.0\n",
      "z194 = 0.11448639205826282\n",
      "z195 = 0.0\n",
      "z196 = 0.0\n",
      "z197 = 0.1938260946719146\n",
      "z198 = 0.14762658460743094\n",
      "z199 = 0.1390936246819119\n"
     ]
    }
   ],
   "source": [
    "print(\"The optimal objective value for this problem is {portfolio.objVal}\") # optimal objective value\n",
    "\n",
    "print(\"The optimal values of the decision variables are as follows:\")\n",
    "for var in portfolio.getVars():\n",
    "    print(f\"{var.varName} = {var.x}\")"
   ]
  }
 ],
 "metadata": {
  "kernelspec": {
   "display_name": "Python 3.10.6 64-bit (windows store)",
   "language": "python",
   "name": "python3"
  },
  "language_info": {
   "codemirror_mode": {
    "name": "ipython",
    "version": 3
   },
   "file_extension": ".py",
   "mimetype": "text/x-python",
   "name": "python",
   "nbconvert_exporter": "python",
   "pygments_lexer": "ipython3",
   "version": "3.10.8"
  },
  "orig_nbformat": 4,
  "vscode": {
   "interpreter": {
    "hash": "e66f44aa3b4d8bc1cfb20c33da445c070c54f6eb86b7bc36924372fdce86f151"
   }
  }
 },
 "nbformat": 4,
 "nbformat_minor": 2
}
