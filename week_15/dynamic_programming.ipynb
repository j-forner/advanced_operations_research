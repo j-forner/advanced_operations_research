{
 "cells": [
  {
   "cell_type": "code",
   "execution_count": 11,
   "metadata": {},
   "outputs": [],
   "source": [
    "def binary_knapsack(W, N, value, weight):"
   ]
  },
  {
   "cell_type": "code",
   "execution_count": 12,
   "metadata": {},
   "outputs": [],
   "source": [
    "W = 6 # capacity of knapsack\n",
    "N = 5 # number of items\n",
    "value = [10, 15, 10, 25, 30] # value of items\n",
    "weight = [1, 2, 2, 3, 4] # weight of items\n",
    "binary_knapsack(W, N, value, weight)"
   ]
  }
 ],
 "metadata": {
  "kernelspec": {
   "display_name": "Python 3.8.3 ('base')",
   "language": "python",
   "name": "python3"
  },
  "language_info": {
   "codemirror_mode": {
    "name": "ipython",
    "version": 3
   },
   "file_extension": ".py",
   "mimetype": "text/x-python",
   "name": "python",
   "nbconvert_exporter": "python",
   "pygments_lexer": "ipython3",
   "version": "3.8.3"
  },
  "orig_nbformat": 4,
  "vscode": {
   "interpreter": {
    "hash": "59dcf0e4980a5f82ba87556c3b75ed6abea52d4b8194172192e551d29fa7b344"
   }
  }
 },
 "nbformat": 4,
 "nbformat_minor": 2
}
